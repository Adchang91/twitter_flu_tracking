{
 "cells": [
  {
   "cell_type": "code",
   "execution_count": 2,
   "metadata": {},
   "outputs": [
    {
     "data": {
      "text/html": [
       "<script>requirejs.config({paths: { 'plotly': ['https://cdn.plot.ly/plotly-latest.min']},});if(!window.Plotly) {{require(['plotly'],function(plotly) {window.Plotly=plotly;});}}</script>"
      ],
      "text/vnd.plotly.v1+html": [
       "<script>requirejs.config({paths: { 'plotly': ['https://cdn.plot.ly/plotly-latest.min']},});if(!window.Plotly) {{require(['plotly'],function(plotly) {window.Plotly=plotly;});}}</script>"
      ]
     },
     "metadata": {},
     "output_type": "display_data"
    }
   ],
   "source": [
    "import numpy as np\n",
    "from sklearn.externals import joblib\n",
    "import pandas as pd\n",
    "from twitter_package.charts import *\n",
    "import base64\n",
    "import warnings\n",
    "from nltk.corpus import stopwords\n",
    "from nltk.tokenize import TweetTokenizer, word_tokenize\n",
    "from sklearn.feature_extraction.text import CountVectorizer, TfidfVectorizer\n",
    "import plotly.plotly as py\n",
    "import plotly\n",
    "import plotly.figure_factory as ff\n",
    "import plotly.graph_objs as go\n",
    "from plotly.offline import iplot, init_notebook_mode\n",
    "init_notebook_mode(connected=True)"
   ]
  },
  {
   "cell_type": "code",
   "execution_count": 56,
   "metadata": {},
   "outputs": [],
   "source": [
    "with warnings.catch_warnings():\n",
    "    warnings.simplefilter(\"ignore\", category=UserWarning)\n",
    "    warnings.filterwarnings(\"ignore\", category=DeprecationWarning)\n",
    "    nb = joblib.load('models/nb.pkl')\n",
    "    log = joblib.load('models/log.pkl')\n",
    "    forest = joblib.load('models/forest.pkl')\n",
    "    gradboost = joblib.load('models/gradboost.pkl')\n",
    "    adaboost = joblib.load('models/adaboost.pkl')\n",
    "    svm = joblib.load('models/svm.pkl')\n",
    "#load training and test sets\n",
    "test_data = pd.read_csv('train_test_data/test_data.csv', header=None)\n",
    "test_data = test_data[1]\n",
    "train_data = pd.read_csv('train_test_data/train_data.csv', header=None)\n",
    "train_data = train_data[1]\n",
    "y_test = pd.read_csv('train_test_data/y_test.csv', header=None)\n",
    "y_test = y_test[1]\n",
    "y_train = pd.read_csv('train_test_data/y_train.csv', header=None)\n",
    "y_train = y_train[1]\n",
    "\n",
    "def tokenize(tweet):\n",
    "    tknzr = TweetTokenizer(strip_handles=True, reduce_len=True, preserve_case=False)\n",
    "    return tknzr.tokenize(tweet)\n",
    "\n",
    "tfidfvec2 = TfidfVectorizer(stop_words='english', tokenizer=tokenize, ngram_range=(1,2), max_features=20000)\n",
    "x_train = tfidfvec2.fit_transform(train_data)\n",
    "x_test = tfidfvec2.transform(test_data)"
   ]
  },
  {
   "cell_type": "code",
   "execution_count": 75,
   "metadata": {},
   "outputs": [],
   "source": [
    "def check_model(model_name):\n",
    "    if model_name=='log':\n",
    "        return log\n",
    "    elif model_name=='nb':\n",
    "        return nb\n",
    "    elif model_name=='forest':\n",
    "        return forest\n",
    "    elif model_name=='gradboost':\n",
    "        return gradboost\n",
    "    elif model_name=='adaboost':\n",
    "        return adaboost\n",
    "    elif model_name=='svm':\n",
    "        return svm\n",
    "\n",
    "def generate_confusion_matrix(input_value):\n",
    "    model = check_model(input_value)\n",
    "    model.fit(x_train, y_train)\n",
    "    predictions = model.predict(x_test)\n",
    "    cm = confusion_matrix(y_test, predictions)\n",
    "    cm = cm.astype('float') / cm.sum(axis=1)[:, np.newaxis]\n",
    "    print(cm)\n",
    "    trace = [go.Heatmap(x=['POS', 'NEG'], y=['POS', 'NEG'], z=cm)]\n",
    "    return plotly.offline.iplot(trace)"
   ]
  },
  {
   "cell_type": "code",
   "execution_count": 76,
   "metadata": {},
   "outputs": [
    {
     "name": "stdout",
     "output_type": "stream",
     "text": [
      "[[0.63304721 0.36695279]\n",
      " [0.2180937  0.7819063 ]]\n"
     ]
    },
    {
     "data": {
      "application/vnd.plotly.v1+json": {
       "data": [
        {
         "type": "heatmap",
         "x": [
          "POS",
          "NEG"
         ],
         "y": [
          "POS",
          "NEG"
         ],
         "z": [
          [
           0.6330472103004292,
           0.3669527896995708
          ],
          [
           0.21809369951534732,
           0.7819063004846527
          ]
         ]
        }
       ],
       "layout": {}
      },
      "text/html": [
       "<div id=\"64daf36a-1dd5-47fc-9287-80e61b2f45bb\" style=\"height: 525px; width: 100%;\" class=\"plotly-graph-div\"></div><script type=\"text/javascript\">require([\"plotly\"], function(Plotly) { window.PLOTLYENV=window.PLOTLYENV || {};window.PLOTLYENV.BASE_URL=\"https://plot.ly\";Plotly.newPlot(\"64daf36a-1dd5-47fc-9287-80e61b2f45bb\", [{\"type\": \"heatmap\", \"x\": [\"POS\", \"NEG\"], \"y\": [\"POS\", \"NEG\"], \"z\": [[0.6330472103004292, 0.3669527896995708], [0.21809369951534732, 0.7819063004846527]]}], {}, {\"showLink\": true, \"linkText\": \"Export to plot.ly\"})});</script>"
      ],
      "text/vnd.plotly.v1+html": [
       "<div id=\"64daf36a-1dd5-47fc-9287-80e61b2f45bb\" style=\"height: 525px; width: 100%;\" class=\"plotly-graph-div\"></div><script type=\"text/javascript\">require([\"plotly\"], function(Plotly) { window.PLOTLYENV=window.PLOTLYENV || {};window.PLOTLYENV.BASE_URL=\"https://plot.ly\";Plotly.newPlot(\"64daf36a-1dd5-47fc-9287-80e61b2f45bb\", [{\"type\": \"heatmap\", \"x\": [\"POS\", \"NEG\"], \"y\": [\"POS\", \"NEG\"], \"z\": [[0.6330472103004292, 0.3669527896995708], [0.21809369951534732, 0.7819063004846527]]}], {}, {\"showLink\": true, \"linkText\": \"Export to plot.ly\"})});</script>"
      ]
     },
     "metadata": {},
     "output_type": "display_data"
    }
   ],
   "source": [
    "generate_confusion_matrix('log')"
   ]
  },
  {
   "cell_type": "code",
   "execution_count": null,
   "metadata": {},
   "outputs": [],
   "source": []
  }
 ],
 "metadata": {
  "kernelspec": {
   "display_name": "Python 3",
   "language": "python",
   "name": "python3"
  },
  "language_info": {
   "codemirror_mode": {
    "name": "ipython",
    "version": 3
   },
   "file_extension": ".py",
   "mimetype": "text/x-python",
   "name": "python",
   "nbconvert_exporter": "python",
   "pygments_lexer": "ipython3",
   "version": "3.6.6"
  }
 },
 "nbformat": 4,
 "nbformat_minor": 2
}

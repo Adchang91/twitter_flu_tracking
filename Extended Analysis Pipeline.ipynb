{
 "cells": [
  {
   "cell_type": "markdown",
   "metadata": {},
   "source": [
    "# Time Series Analysis with Twitter and CDC data"
   ]
  },
  {
   "cell_type": "code",
   "execution_count": 1,
   "metadata": {},
   "outputs": [],
   "source": [
    "import warnings\n",
    "warnings.filterwarnings('ignore')\n",
    "\n",
    "# Load required libraries\n",
    "import pandas as pd\n",
    "from pandas import Series\n",
    "import matplotlib.pyplot as plt\n",
    "%matplotlib inline\n",
    "from datetime import datetime\n",
    "import seaborn as sns"
   ]
  },
  {
   "cell_type": "markdown",
   "metadata": {},
   "source": [
    "## Cleaning Data"
   ]
  },
  {
   "cell_type": "markdown",
   "metadata": {},
   "source": [
    "### CDC Data Cleaning"
   ]
  },
  {
   "cell_type": "code",
   "execution_count": 33,
   "metadata": {},
   "outputs": [
    {
     "name": "stdout",
     "output_type": "stream",
     "text": [
      "Index(['REGION TYPE', 'REGION', 'YEAR', 'WEEK', '% WEIGHTED ILI',\n",
      "       '%UNWEIGHTED ILI', 'AGE 0-4', 'AGE 25-49', 'AGE 25-64', 'AGE 5-24',\n",
      "       'AGE 50-64', 'AGE 65', 'ILITOTAL', 'NUM. OF PROVIDERS'],\n",
      "      dtype='object', name=0)\n"
     ]
    },
    {
     "data": {
      "text/html": [
       "<div>\n",
       "<style scoped>\n",
       "    .dataframe tbody tr th:only-of-type {\n",
       "        vertical-align: middle;\n",
       "    }\n",
       "\n",
       "    .dataframe tbody tr th {\n",
       "        vertical-align: top;\n",
       "    }\n",
       "\n",
       "    .dataframe thead th {\n",
       "        text-align: right;\n",
       "    }\n",
       "</style>\n",
       "<table border=\"1\" class=\"dataframe\">\n",
       "  <thead>\n",
       "    <tr style=\"text-align: right;\">\n",
       "      <th></th>\n",
       "      <th>YEAR</th>\n",
       "      <th>WEEK</th>\n",
       "      <th>% WEIGHTED ILI</th>\n",
       "      <th>%UNWEIGHTED ILI</th>\n",
       "      <th>ILITOTAL</th>\n",
       "    </tr>\n",
       "  </thead>\n",
       "  <tbody>\n",
       "    <tr>\n",
       "      <th>1</th>\n",
       "      <td>2017</td>\n",
       "      <td>40</td>\n",
       "      <td>1.26686</td>\n",
       "      <td>1.27887</td>\n",
       "      <td>12873</td>\n",
       "    </tr>\n",
       "    <tr>\n",
       "      <th>2</th>\n",
       "      <td>2017</td>\n",
       "      <td>41</td>\n",
       "      <td>1.30548</td>\n",
       "      <td>1.32949</td>\n",
       "      <td>13298</td>\n",
       "    </tr>\n",
       "    <tr>\n",
       "      <th>3</th>\n",
       "      <td>2017</td>\n",
       "      <td>42</td>\n",
       "      <td>1.3427</td>\n",
       "      <td>1.40743</td>\n",
       "      <td>14364</td>\n",
       "    </tr>\n",
       "    <tr>\n",
       "      <th>4</th>\n",
       "      <td>2017</td>\n",
       "      <td>43</td>\n",
       "      <td>1.51794</td>\n",
       "      <td>1.56987</td>\n",
       "      <td>15860</td>\n",
       "    </tr>\n",
       "    <tr>\n",
       "      <th>5</th>\n",
       "      <td>2017</td>\n",
       "      <td>44</td>\n",
       "      <td>1.74744</td>\n",
       "      <td>1.70028</td>\n",
       "      <td>17095</td>\n",
       "    </tr>\n",
       "    <tr>\n",
       "      <th>6</th>\n",
       "      <td>2017</td>\n",
       "      <td>45</td>\n",
       "      <td>1.88853</td>\n",
       "      <td>1.8622</td>\n",
       "      <td>19086</td>\n",
       "    </tr>\n",
       "    <tr>\n",
       "      <th>7</th>\n",
       "      <td>2017</td>\n",
       "      <td>46</td>\n",
       "      <td>2.06095</td>\n",
       "      <td>2.07067</td>\n",
       "      <td>21932</td>\n",
       "    </tr>\n",
       "    <tr>\n",
       "      <th>8</th>\n",
       "      <td>2017</td>\n",
       "      <td>47</td>\n",
       "      <td>2.28181</td>\n",
       "      <td>2.33331</td>\n",
       "      <td>19863</td>\n",
       "    </tr>\n",
       "    <tr>\n",
       "      <th>9</th>\n",
       "      <td>2017</td>\n",
       "      <td>48</td>\n",
       "      <td>2.28651</td>\n",
       "      <td>2.24394</td>\n",
       "      <td>23796</td>\n",
       "    </tr>\n",
       "    <tr>\n",
       "      <th>10</th>\n",
       "      <td>2017</td>\n",
       "      <td>49</td>\n",
       "      <td>2.58575</td>\n",
       "      <td>2.49151</td>\n",
       "      <td>24996</td>\n",
       "    </tr>\n",
       "    <tr>\n",
       "      <th>11</th>\n",
       "      <td>2017</td>\n",
       "      <td>50</td>\n",
       "      <td>3.36708</td>\n",
       "      <td>3.19492</td>\n",
       "      <td>31539</td>\n",
       "    </tr>\n",
       "    <tr>\n",
       "      <th>12</th>\n",
       "      <td>2017</td>\n",
       "      <td>51</td>\n",
       "      <td>4.73508</td>\n",
       "      <td>4.42889</td>\n",
       "      <td>42822</td>\n",
       "    </tr>\n",
       "    <tr>\n",
       "      <th>13</th>\n",
       "      <td>2017</td>\n",
       "      <td>52</td>\n",
       "      <td>5.71257</td>\n",
       "      <td>5.45274</td>\n",
       "      <td>45332</td>\n",
       "    </tr>\n",
       "    <tr>\n",
       "      <th>14</th>\n",
       "      <td>2018</td>\n",
       "      <td>1</td>\n",
       "      <td>5.74838</td>\n",
       "      <td>5.35032</td>\n",
       "      <td>47345</td>\n",
       "    </tr>\n",
       "    <tr>\n",
       "      <th>15</th>\n",
       "      <td>2018</td>\n",
       "      <td>2</td>\n",
       "      <td>5.89644</td>\n",
       "      <td>5.51838</td>\n",
       "      <td>56873</td>\n",
       "    </tr>\n",
       "    <tr>\n",
       "      <th>16</th>\n",
       "      <td>2018</td>\n",
       "      <td>3</td>\n",
       "      <td>6.52169</td>\n",
       "      <td>6.33717</td>\n",
       "      <td>63181</td>\n",
       "    </tr>\n",
       "    <tr>\n",
       "      <th>17</th>\n",
       "      <td>2018</td>\n",
       "      <td>4</td>\n",
       "      <td>7.16975</td>\n",
       "      <td>7.01762</td>\n",
       "      <td>77591</td>\n",
       "    </tr>\n",
       "    <tr>\n",
       "      <th>18</th>\n",
       "      <td>2018</td>\n",
       "      <td>5</td>\n",
       "      <td>7.52512</td>\n",
       "      <td>7.77733</td>\n",
       "      <td>86207</td>\n",
       "    </tr>\n",
       "    <tr>\n",
       "      <th>19</th>\n",
       "      <td>2018</td>\n",
       "      <td>6</td>\n",
       "      <td>7.39154</td>\n",
       "      <td>7.76717</td>\n",
       "      <td>88095</td>\n",
       "    </tr>\n",
       "    <tr>\n",
       "      <th>20</th>\n",
       "      <td>2018</td>\n",
       "      <td>7</td>\n",
       "      <td>6.45234</td>\n",
       "      <td>6.8119</td>\n",
       "      <td>76482</td>\n",
       "    </tr>\n",
       "    <tr>\n",
       "      <th>21</th>\n",
       "      <td>2018</td>\n",
       "      <td>8</td>\n",
       "      <td>4.96371</td>\n",
       "      <td>5.16133</td>\n",
       "      <td>53257</td>\n",
       "    </tr>\n",
       "    <tr>\n",
       "      <th>22</th>\n",
       "      <td>2018</td>\n",
       "      <td>9</td>\n",
       "      <td>3.68978</td>\n",
       "      <td>3.56622</td>\n",
       "      <td>36258</td>\n",
       "    </tr>\n",
       "    <tr>\n",
       "      <th>23</th>\n",
       "      <td>2018</td>\n",
       "      <td>10</td>\n",
       "      <td>3.19012</td>\n",
       "      <td>3.0074</td>\n",
       "      <td>29253</td>\n",
       "    </tr>\n",
       "    <tr>\n",
       "      <th>24</th>\n",
       "      <td>2018</td>\n",
       "      <td>11</td>\n",
       "      <td>2.77246</td>\n",
       "      <td>2.73191</td>\n",
       "      <td>26045</td>\n",
       "    </tr>\n",
       "    <tr>\n",
       "      <th>25</th>\n",
       "      <td>2018</td>\n",
       "      <td>12</td>\n",
       "      <td>2.4891</td>\n",
       "      <td>2.47893</td>\n",
       "      <td>23899</td>\n",
       "    </tr>\n",
       "    <tr>\n",
       "      <th>26</th>\n",
       "      <td>2018</td>\n",
       "      <td>13</td>\n",
       "      <td>2.41068</td>\n",
       "      <td>2.36411</td>\n",
       "      <td>20780</td>\n",
       "    </tr>\n",
       "    <tr>\n",
       "      <th>27</th>\n",
       "      <td>2018</td>\n",
       "      <td>14</td>\n",
       "      <td>2.0771</td>\n",
       "      <td>2.03367</td>\n",
       "      <td>19162</td>\n",
       "    </tr>\n",
       "    <tr>\n",
       "      <th>28</th>\n",
       "      <td>2018</td>\n",
       "      <td>15</td>\n",
       "      <td>1.78041</td>\n",
       "      <td>1.80495</td>\n",
       "      <td>16733</td>\n",
       "    </tr>\n",
       "    <tr>\n",
       "      <th>29</th>\n",
       "      <td>2018</td>\n",
       "      <td>16</td>\n",
       "      <td>1.61514</td>\n",
       "      <td>1.58648</td>\n",
       "      <td>14911</td>\n",
       "    </tr>\n",
       "    <tr>\n",
       "      <th>30</th>\n",
       "      <td>2018</td>\n",
       "      <td>17</td>\n",
       "      <td>1.5398</td>\n",
       "      <td>1.53958</td>\n",
       "      <td>14613</td>\n",
       "    </tr>\n",
       "    <tr>\n",
       "      <th>31</th>\n",
       "      <td>2018</td>\n",
       "      <td>18</td>\n",
       "      <td>1.52658</td>\n",
       "      <td>1.44792</td>\n",
       "      <td>13316</td>\n",
       "    </tr>\n",
       "    <tr>\n",
       "      <th>32</th>\n",
       "      <td>2018</td>\n",
       "      <td>19</td>\n",
       "      <td>1.28913</td>\n",
       "      <td>1.27654</td>\n",
       "      <td>11656</td>\n",
       "    </tr>\n",
       "    <tr>\n",
       "      <th>33</th>\n",
       "      <td>2018</td>\n",
       "      <td>20</td>\n",
       "      <td>1.18365</td>\n",
       "      <td>1.21898</td>\n",
       "      <td>11093</td>\n",
       "    </tr>\n",
       "    <tr>\n",
       "      <th>34</th>\n",
       "      <td>2018</td>\n",
       "      <td>21</td>\n",
       "      <td>1.22623</td>\n",
       "      <td>1.22989</td>\n",
       "      <td>10606</td>\n",
       "    </tr>\n",
       "    <tr>\n",
       "      <th>35</th>\n",
       "      <td>2018</td>\n",
       "      <td>22</td>\n",
       "      <td>1.14639</td>\n",
       "      <td>1.22633</td>\n",
       "      <td>9621</td>\n",
       "    </tr>\n",
       "    <tr>\n",
       "      <th>36</th>\n",
       "      <td>2018</td>\n",
       "      <td>23</td>\n",
       "      <td>0.991509</td>\n",
       "      <td>1.0519</td>\n",
       "      <td>8699</td>\n",
       "    </tr>\n",
       "    <tr>\n",
       "      <th>37</th>\n",
       "      <td>2018</td>\n",
       "      <td>24</td>\n",
       "      <td>0.89415</td>\n",
       "      <td>0.981651</td>\n",
       "      <td>7571</td>\n",
       "    </tr>\n",
       "    <tr>\n",
       "      <th>38</th>\n",
       "      <td>2018</td>\n",
       "      <td>25</td>\n",
       "      <td>0.886344</td>\n",
       "      <td>0.950898</td>\n",
       "      <td>7371</td>\n",
       "    </tr>\n",
       "    <tr>\n",
       "      <th>39</th>\n",
       "      <td>2018</td>\n",
       "      <td>26</td>\n",
       "      <td>0.872137</td>\n",
       "      <td>0.871074</td>\n",
       "      <td>6939</td>\n",
       "    </tr>\n",
       "    <tr>\n",
       "      <th>40</th>\n",
       "      <td>2018</td>\n",
       "      <td>27</td>\n",
       "      <td>0.796414</td>\n",
       "      <td>0.827542</td>\n",
       "      <td>6258</td>\n",
       "    </tr>\n",
       "    <tr>\n",
       "      <th>41</th>\n",
       "      <td>2018</td>\n",
       "      <td>28</td>\n",
       "      <td>0.726125</td>\n",
       "      <td>0.775926</td>\n",
       "      <td>6507</td>\n",
       "    </tr>\n",
       "    <tr>\n",
       "      <th>42</th>\n",
       "      <td>2018</td>\n",
       "      <td>29</td>\n",
       "      <td>0.666092</td>\n",
       "      <td>0.710763</td>\n",
       "      <td>5788</td>\n",
       "    </tr>\n",
       "    <tr>\n",
       "      <th>43</th>\n",
       "      <td>2018</td>\n",
       "      <td>30</td>\n",
       "      <td>0.643054</td>\n",
       "      <td>0.688468</td>\n",
       "      <td>5489</td>\n",
       "    </tr>\n",
       "    <tr>\n",
       "      <th>44</th>\n",
       "      <td>2018</td>\n",
       "      <td>31</td>\n",
       "      <td>0.650461</td>\n",
       "      <td>0.691292</td>\n",
       "      <td>5593</td>\n",
       "    </tr>\n",
       "    <tr>\n",
       "      <th>45</th>\n",
       "      <td>2018</td>\n",
       "      <td>32</td>\n",
       "      <td>0.709979</td>\n",
       "      <td>0.741188</td>\n",
       "      <td>5827</td>\n",
       "    </tr>\n",
       "    <tr>\n",
       "      <th>46</th>\n",
       "      <td>2018</td>\n",
       "      <td>33</td>\n",
       "      <td>0.732131</td>\n",
       "      <td>0.822015</td>\n",
       "      <td>6520</td>\n",
       "    </tr>\n",
       "    <tr>\n",
       "      <th>47</th>\n",
       "      <td>2018</td>\n",
       "      <td>34</td>\n",
       "      <td>0.814453</td>\n",
       "      <td>0.95923</td>\n",
       "      <td>7227</td>\n",
       "    </tr>\n",
       "    <tr>\n",
       "      <th>48</th>\n",
       "      <td>2018</td>\n",
       "      <td>35</td>\n",
       "      <td>0.874957</td>\n",
       "      <td>0.983492</td>\n",
       "      <td>7889</td>\n",
       "    </tr>\n",
       "    <tr>\n",
       "      <th>49</th>\n",
       "      <td>2018</td>\n",
       "      <td>36</td>\n",
       "      <td>1.13768</td>\n",
       "      <td>1.16402</td>\n",
       "      <td>9243</td>\n",
       "    </tr>\n",
       "    <tr>\n",
       "      <th>50</th>\n",
       "      <td>2018</td>\n",
       "      <td>37</td>\n",
       "      <td>1.1778</td>\n",
       "      <td>1.1788</td>\n",
       "      <td>9037</td>\n",
       "    </tr>\n",
       "  </tbody>\n",
       "</table>\n",
       "</div>"
      ],
      "text/plain": [
       "0   YEAR WEEK % WEIGHTED ILI %UNWEIGHTED ILI ILITOTAL\n",
       "1   2017   40        1.26686         1.27887    12873\n",
       "2   2017   41        1.30548         1.32949    13298\n",
       "3   2017   42         1.3427         1.40743    14364\n",
       "4   2017   43        1.51794         1.56987    15860\n",
       "5   2017   44        1.74744         1.70028    17095\n",
       "6   2017   45        1.88853          1.8622    19086\n",
       "7   2017   46        2.06095         2.07067    21932\n",
       "8   2017   47        2.28181         2.33331    19863\n",
       "9   2017   48        2.28651         2.24394    23796\n",
       "10  2017   49        2.58575         2.49151    24996\n",
       "11  2017   50        3.36708         3.19492    31539\n",
       "12  2017   51        4.73508         4.42889    42822\n",
       "13  2017   52        5.71257         5.45274    45332\n",
       "14  2018    1        5.74838         5.35032    47345\n",
       "15  2018    2        5.89644         5.51838    56873\n",
       "16  2018    3        6.52169         6.33717    63181\n",
       "17  2018    4        7.16975         7.01762    77591\n",
       "18  2018    5        7.52512         7.77733    86207\n",
       "19  2018    6        7.39154         7.76717    88095\n",
       "20  2018    7        6.45234          6.8119    76482\n",
       "21  2018    8        4.96371         5.16133    53257\n",
       "22  2018    9        3.68978         3.56622    36258\n",
       "23  2018   10        3.19012          3.0074    29253\n",
       "24  2018   11        2.77246         2.73191    26045\n",
       "25  2018   12         2.4891         2.47893    23899\n",
       "26  2018   13        2.41068         2.36411    20780\n",
       "27  2018   14         2.0771         2.03367    19162\n",
       "28  2018   15        1.78041         1.80495    16733\n",
       "29  2018   16        1.61514         1.58648    14911\n",
       "30  2018   17         1.5398         1.53958    14613\n",
       "31  2018   18        1.52658         1.44792    13316\n",
       "32  2018   19        1.28913         1.27654    11656\n",
       "33  2018   20        1.18365         1.21898    11093\n",
       "34  2018   21        1.22623         1.22989    10606\n",
       "35  2018   22        1.14639         1.22633     9621\n",
       "36  2018   23       0.991509          1.0519     8699\n",
       "37  2018   24        0.89415        0.981651     7571\n",
       "38  2018   25       0.886344        0.950898     7371\n",
       "39  2018   26       0.872137        0.871074     6939\n",
       "40  2018   27       0.796414        0.827542     6258\n",
       "41  2018   28       0.726125        0.775926     6507\n",
       "42  2018   29       0.666092        0.710763     5788\n",
       "43  2018   30       0.643054        0.688468     5489\n",
       "44  2018   31       0.650461        0.691292     5593\n",
       "45  2018   32       0.709979        0.741188     5827\n",
       "46  2018   33       0.732131        0.822015     6520\n",
       "47  2018   34       0.814453         0.95923     7227\n",
       "48  2018   35       0.874957        0.983492     7889\n",
       "49  2018   36        1.13768         1.16402     9243\n",
       "50  2018   37         1.1778          1.1788     9037"
      ]
     },
     "execution_count": 33,
     "metadata": {},
     "output_type": "execute_result"
    }
   ],
   "source": [
    "#http://www.cs.uml.edu/~bliu/pub/CPNS_2011.pdf\n",
    "cdc_df = pd.read_csv('FluViewPhase2Data/ILINet.csv')\n",
    "cdc_df.reset_index(inplace=True) # Resets the index, makes factor a column\n",
    "cdc_df.drop('PERCENTAGE OF VISITS FOR INFLUENZA-LIKE-ILLNESS REPORTED BY SENTINEL PROVIDERS',axis=1,inplace=True) # drop factor from axis 1 and make changes permanent by inplace=True\n",
    "cdc_df.columns = cdc_df.iloc[0]\n",
    "cdc_df = cdc_df.iloc[1:]\n",
    "print(cdc_df.columns)\n",
    "cdc_df = cdc_df.drop(['REGION TYPE', 'REGION', 'AGE 0-4', 'AGE 25-49', 'AGE 25-64', 'AGE 5-24',\n",
    "       'AGE 50-64', 'AGE 65', 'NUM. OF PROVIDERS'], axis=1)\n",
    "cdc_df"
   ]
  },
  {
   "cell_type": "code",
   "execution_count": 34,
   "metadata": {},
   "outputs": [],
   "source": [
    "cdc_df[\"Date\"] = pd.to_datetime(cdc_df.WEEK.astype(str)+\n",
    "                          cdc_df.YEAR.astype(str).add('-1') ,format='%W%Y-%w')\n",
    "cdc_df.set_index(cdc_df['Date'], inplace=True)\n",
    "cdc_df.drop(['Date', 'YEAR', 'WEEK', '% WEIGHTED ILI', '%UNWEIGHTED ILI'], axis=1, inplace=True)\n",
    "cdc_df['ILITOTAL'] = cdc_df['ILITOTAL'].astype('int64')"
   ]
  },
  {
   "cell_type": "markdown",
   "metadata": {},
   "source": [
    "### Google Search Trends"
   ]
  },
  {
   "cell_type": "code",
   "execution_count": 62,
   "metadata": {},
   "outputs": [
    {
     "data": {
      "text/html": [
       "<div>\n",
       "<style scoped>\n",
       "    .dataframe tbody tr th:only-of-type {\n",
       "        vertical-align: middle;\n",
       "    }\n",
       "\n",
       "    .dataframe tbody tr th {\n",
       "        vertical-align: top;\n",
       "    }\n",
       "\n",
       "    .dataframe thead th {\n",
       "        text-align: right;\n",
       "    }\n",
       "</style>\n",
       "<table border=\"1\" class=\"dataframe\">\n",
       "  <thead>\n",
       "    <tr style=\"text-align: right;\">\n",
       "      <th></th>\n",
       "      <th>Week</th>\n",
       "      <th>flu: (United States)</th>\n",
       "    </tr>\n",
       "  </thead>\n",
       "  <tbody>\n",
       "    <tr>\n",
       "      <th>1</th>\n",
       "      <td>2017-10-02</td>\n",
       "      <td>18</td>\n",
       "    </tr>\n",
       "    <tr>\n",
       "      <th>2</th>\n",
       "      <td>2017-10-09</td>\n",
       "      <td>18</td>\n",
       "    </tr>\n",
       "    <tr>\n",
       "      <th>3</th>\n",
       "      <td>2017-10-16</td>\n",
       "      <td>18</td>\n",
       "    </tr>\n",
       "    <tr>\n",
       "      <th>4</th>\n",
       "      <td>2017-10-22</td>\n",
       "      <td>18</td>\n",
       "    </tr>\n",
       "    <tr>\n",
       "      <th>5</th>\n",
       "      <td>2017-10-30</td>\n",
       "      <td>16</td>\n",
       "    </tr>\n",
       "  </tbody>\n",
       "</table>\n",
       "</div>"
      ],
      "text/plain": [
       "0        Week flu: (United States)\n",
       "1  2017-10-02                   18\n",
       "2  2017-10-09                   18\n",
       "3  2017-10-16                   18\n",
       "4  2017-10-22                   18\n",
       "5  2017-10-30                   16"
      ]
     },
     "execution_count": 62,
     "metadata": {},
     "output_type": "execute_result"
    }
   ],
   "source": [
    "google_df = pd.read_csv('google_trends/multiTimeline.csv')\n",
    "google_df.reset_index(inplace=True) # Resets the index, makes factor a column\n",
    "google_df.columns = google_df.iloc[0]\n",
    "google_df = google_df.iloc[1:]\n",
    "google_df.head()"
   ]
  },
  {
   "cell_type": "code",
   "execution_count": 63,
   "metadata": {},
   "outputs": [],
   "source": [
    "google_df.rename(columns={'Week': 'Date'}, inplace=True)\n",
    "google_df.rename(columns={'flu: (United States)': 'Count'}, inplace=True)\n",
    "google_df.set_index(google_df['Date'], inplace=True)\n",
    "google_df.drop(['Date'], axis=1, inplace=True)\n",
    "google_df['Count'] = google_df['Count'].astype('int64')"
   ]
  },
  {
   "cell_type": "markdown",
   "metadata": {},
   "source": [
    "### Twitter Cleaning"
   ]
  },
  {
   "cell_type": "code",
   "execution_count": null,
   "metadata": {},
   "outputs": [],
   "source": [
    "#will need to delete retweets, tweets from the same user within a week (not a new case)\n",
    "#normalize scale of CDC visits and tweets "
   ]
  },
  {
   "cell_type": "markdown",
   "metadata": {},
   "source": [
    "## Visualizations"
   ]
  },
  {
   "cell_type": "code",
   "execution_count": 1,
   "metadata": {},
   "outputs": [],
   "source": [
    "#include framework model here -- tracking influenza-like illness "
   ]
  },
  {
   "cell_type": "markdown",
   "metadata": {},
   "source": [
    "### CDC ILI Visits 2017-2018"
   ]
  },
  {
   "cell_type": "code",
   "execution_count": 68,
   "metadata": {},
   "outputs": [
    {
     "data": {
      "image/png": "[encoded data removed]",
      "text/plain": [
       "<Figure size 432x288 with 1 Axes>"
      ]
     },
     "metadata": {},
     "output_type": "display_data"
    }
   ],
   "source": [
    "#show distribution (count of flu-related tweets) over time \n",
    "#https://github.com/learn-co-students/ds-ts-visualize_ts-nyc-career-ds-062518/tree/solution\n",
    "#need Pandas Series with date and tweet count per date \n",
    "#overlay with CDC data to see how it corresponds -- have dropdown menu \n",
    "cdc_df.plot()\n",
    "plt.legend().set_visible(False)\n",
    "plt.show()"
   ]
  },
  {
   "cell_type": "code",
   "execution_count": 70,
   "metadata": {},
   "outputs": [
    {
     "data": {
      "text/plain": [
       "<pandas.core.groupby.groupby.DataFrameGroupBy object at 0x1a1a669a90>"
      ]
     },
     "execution_count": 70,
     "metadata": {},
     "output_type": "execute_result"
    }
   ],
   "source": [
    "#maybe heat map by month and week\n",
    "# plt.matshow(cdc_df, interpolation=None, aspect='auto', cmap=plt.cm.Spectral_r)\n",
    "# plt.show()"
   ]
  },
  {
   "cell_type": "markdown",
   "metadata": {},
   "source": [
    "### Google Trends Data 2017-2018 ('Flu')"
   ]
  },
  {
   "cell_type": "code",
   "execution_count": 69,
   "metadata": {},
   "outputs": [
    {
     "data": {
      "image/png": "[encoded data removed]",
      "text/plain": [
       "<Figure size 432x288 with 1 Axes>"
      ]
     },
     "metadata": {},
     "output_type": "display_data"
    }
   ],
   "source": [
    "google_df.plot()\n",
    "plt.legend().set_visible(False)\n",
    "plt.show()"
   ]
  },
  {
   "cell_type": "markdown",
   "metadata": {},
   "source": [
    "### Flu-Related Tweets 2017-2018 "
   ]
  },
  {
   "cell_type": "code",
   "execution_count": null,
   "metadata": {},
   "outputs": [],
   "source": [
    "twitter_df.plot()\n",
    "plt.legend().set_visible(False)\n",
    "plt.show()"
   ]
  },
  {
   "cell_type": "markdown",
   "metadata": {},
   "source": [
    "## Correlation between CDC reports and ILI-tweets"
   ]
  },
  {
   "cell_type": "markdown",
   "metadata": {},
   "source": [
    "### Auto-Correlation "
   ]
  },
  {
   "cell_type": "code",
   "execution_count": null,
   "metadata": {},
   "outputs": [],
   "source": [
    "#check auto-correlation to assess seasonality? (maybe)"
   ]
  },
  {
   "cell_type": "markdown",
   "metadata": {},
   "source": [
    "### Pearson Correlation Coefficient"
   ]
  },
  {
   "cell_type": "code",
   "execution_count": 8,
   "metadata": {},
   "outputs": [],
   "source": [
    "#pearson correlation coefficient between CDC ILI visits and ILI tweets "
   ]
  },
  {
   "cell_type": "markdown",
   "metadata": {},
   "source": [
    "## ARIMA Modeling to Forecast Influenza-Like Cases"
   ]
  },
  {
   "cell_type": "code",
   "execution_count": null,
   "metadata": {},
   "outputs": [],
   "source": [
    "#predict ILI incidence as a linear function of current and \n",
    "#old Social Network data and historical ILI data (CDC data) -- assess model goodness of fit with AIC, lowest value \n",
    "#https://github.com/learn-co-students/ds-ts-ARIMA-nyc-career-ds-062518/tree/solution"
   ]
  },
  {
   "cell_type": "markdown",
   "metadata": {},
   "source": [
    "### Model with CDC data only"
   ]
  },
  {
   "cell_type": "code",
   "execution_count": null,
   "metadata": {},
   "outputs": [],
   "source": []
  },
  {
   "cell_type": "markdown",
   "metadata": {},
   "source": [
    "### Model with CDC & Twitter data"
   ]
  },
  {
   "cell_type": "code",
   "execution_count": null,
   "metadata": {},
   "outputs": [],
   "source": []
  },
  {
   "cell_type": "markdown",
   "metadata": {},
   "source": [
    "### Model Selection: Overview of Goodness-of-Fit Measures"
   ]
  },
  {
   "cell_type": "code",
   "execution_count": null,
   "metadata": {},
   "outputs": [],
   "source": []
  },
  {
   "cell_type": "markdown",
   "metadata": {},
   "source": [
    "### Model Validation: Forecasting"
   ]
  },
  {
   "cell_type": "code",
   "execution_count": 9,
   "metadata": {},
   "outputs": [],
   "source": [
    "#one-step ahead forecasting for best fitting model - comparing predicted values to real values of the time series, \n",
    "#which will help us understand the accuracy of our forecasts (use cross-fold validation)"
   ]
  },
  {
   "cell_type": "markdown",
   "metadata": {},
   "source": [
    "## Producing & Visualizing Forecasts"
   ]
  },
  {
   "cell_type": "code",
   "execution_count": null,
   "metadata": {},
   "outputs": [],
   "source": []
  }
 ],
 "metadata": {
  "kernelspec": {
   "display_name": "Python 3",
   "language": "python",
   "name": "python3"
  },
  "language_info": {
   "codemirror_mode": {
    "name": "ipython",
    "version": 3
   },
   "file_extension": ".py",
   "mimetype": "text/x-python",
   "name": "python",
   "nbconvert_exporter": "python",
   "pygments_lexer": "ipython3",
   "version": "3.6.5"
  }
 },
 "nbformat": 4,
 "nbformat_minor": 2
}

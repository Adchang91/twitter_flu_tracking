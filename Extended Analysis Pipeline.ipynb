{
 "cells": [
  {
   "cell_type": "markdown",
   "metadata": {},
   "source": [
    "# Time Series Analysis with Twitter and CDC data"
   ]
  },
  {
   "cell_type": "code",
   "execution_count": 4,
   "metadata": {},
   "outputs": [],
   "source": [
    "import warnings\n",
    "warnings.filterwarnings('ignore')\n",
    "\n",
    "# Load required libraries\n",
    "import pandas as pd\n",
    "from pandas import Series\n",
    "import matplotlib.pyplot as plt\n",
    "%matplotlib inline"
   ]
  },
  {
   "cell_type": "code",
   "execution_count": 7,
   "metadata": {},
   "outputs": [
    {
     "data": {
      "text/html": [
       "<div>\n",
       "<style scoped>\n",
       "    .dataframe tbody tr th:only-of-type {\n",
       "        vertical-align: middle;\n",
       "    }\n",
       "\n",
       "    .dataframe tbody tr th {\n",
       "        vertical-align: top;\n",
       "    }\n",
       "\n",
       "    .dataframe thead th {\n",
       "        text-align: right;\n",
       "    }\n",
       "</style>\n",
       "<table border=\"1\" class=\"dataframe\">\n",
       "  <thead>\n",
       "    <tr style=\"text-align: right;\">\n",
       "      <th></th>\n",
       "      <th></th>\n",
       "      <th></th>\n",
       "      <th></th>\n",
       "      <th></th>\n",
       "      <th></th>\n",
       "      <th></th>\n",
       "      <th></th>\n",
       "      <th></th>\n",
       "      <th></th>\n",
       "      <th></th>\n",
       "      <th></th>\n",
       "      <th></th>\n",
       "      <th></th>\n",
       "      <th>PERCENTAGE OF VISITS FOR INFLUENZA-LIKE-ILLNESS REPORTED BY SENTINEL PROVIDERS</th>\n",
       "    </tr>\n",
       "  </thead>\n",
       "  <tbody>\n",
       "    <tr>\n",
       "      <th>REGION TYPE</th>\n",
       "      <th>REGION</th>\n",
       "      <th>YEAR</th>\n",
       "      <th>WEEK</th>\n",
       "      <th>% WEIGHTED ILI</th>\n",
       "      <th>%UNWEIGHTED ILI</th>\n",
       "      <th>AGE 0-4</th>\n",
       "      <th>AGE 25-49</th>\n",
       "      <th>AGE 25-64</th>\n",
       "      <th>AGE 5-24</th>\n",
       "      <th>AGE 50-64</th>\n",
       "      <th>AGE 65</th>\n",
       "      <th>ILITOTAL</th>\n",
       "      <th>NUM. OF PROVIDERS</th>\n",
       "      <td>TOTAL PATIENTS</td>\n",
       "    </tr>\n",
       "    <tr>\n",
       "      <th rowspan=\"4\" valign=\"top\">National</th>\n",
       "      <th rowspan=\"4\" valign=\"top\">X</th>\n",
       "      <th rowspan=\"4\" valign=\"top\">2017</th>\n",
       "      <th>40</th>\n",
       "      <th>1.26686</th>\n",
       "      <th>1.27887</th>\n",
       "      <th>3852</th>\n",
       "      <th>2502</th>\n",
       "      <th>X</th>\n",
       "      <th>4567</th>\n",
       "      <th>1075</th>\n",
       "      <th>877</th>\n",
       "      <th>12873</th>\n",
       "      <th>2227</th>\n",
       "      <td>1006594</td>\n",
       "    </tr>\n",
       "    <tr>\n",
       "      <th>41</th>\n",
       "      <th>1.30548</th>\n",
       "      <th>1.32949</th>\n",
       "      <th>4119</th>\n",
       "      <th>2686</th>\n",
       "      <th>X</th>\n",
       "      <th>4463</th>\n",
       "      <th>1078</th>\n",
       "      <th>952</th>\n",
       "      <th>13298</th>\n",
       "      <th>2252</th>\n",
       "      <td>1000234</td>\n",
       "    </tr>\n",
       "    <tr>\n",
       "      <th>42</th>\n",
       "      <th>1.3427</th>\n",
       "      <th>1.40743</th>\n",
       "      <th>4416</th>\n",
       "      <th>2823</th>\n",
       "      <th>X</th>\n",
       "      <th>5007</th>\n",
       "      <th>1142</th>\n",
       "      <th>976</th>\n",
       "      <th>14364</th>\n",
       "      <th>2273</th>\n",
       "      <td>1020587</td>\n",
       "    </tr>\n",
       "    <tr>\n",
       "      <th>43</th>\n",
       "      <th>1.51794</th>\n",
       "      <th>1.56987</th>\n",
       "      <th>5012</th>\n",
       "      <th>2927</th>\n",
       "      <th>X</th>\n",
       "      <th>5539</th>\n",
       "      <th>1327</th>\n",
       "      <th>1055</th>\n",
       "      <th>15860</th>\n",
       "      <th>2272</th>\n",
       "      <td>1010276</td>\n",
       "    </tr>\n",
       "  </tbody>\n",
       "</table>\n",
       "</div>"
      ],
      "text/plain": [
       "                                                                                                                                             PERCENTAGE OF VISITS FOR INFLUENZA-LIKE-ILLNESS REPORTED BY SENTINEL PROVIDERS\n",
       "REGION TYPE REGION YEAR WEEK % WEIGHTED ILI %UNWEIGHTED ILI AGE 0-4 AGE 25-49 AGE 25-64 AGE 5-24 AGE 50-64 AGE 65 ILITOTAL NUM. OF PROVIDERS                                     TOTAL PATIENTS                            \n",
       "National    X      2017 40   1.26686        1.27887         3852    2502      X         4567     1075      877    12873    2227                                                         1006594                            \n",
       "                        41   1.30548        1.32949         4119    2686      X         4463     1078      952    13298    2252                                                         1000234                            \n",
       "                        42   1.3427         1.40743         4416    2823      X         5007     1142      976    14364    2273                                                         1020587                            \n",
       "                        43   1.51794        1.56987         5012    2927      X         5539     1327      1055   15860    2272                                                         1010276                            "
      ]
     },
     "execution_count": 7,
     "metadata": {},
     "output_type": "execute_result"
    }
   ],
   "source": [
    "#http://www.cs.uml.edu/~bliu/pub/CPNS_2011.pdf\n",
    "df = pd.read_csv('FluViewPhase2Data/ILINet.csv')\n",
    "df.head()"
   ]
  },
  {
   "cell_type": "code",
   "execution_count": null,
   "metadata": {},
   "outputs": [],
   "source": [
    "#for 2017 - week 40 is week of October 2, 2017\n",
    "#need to convert weeks, keep total patients for ILI illness"
   ]
  },
  {
   "cell_type": "code",
   "execution_count": null,
   "metadata": {},
   "outputs": [],
   "source": [
    "#will need to delete retweets, tweets from the same user within a week (not a new case)\n",
    "#normalize scale of CDC visits and tweets "
   ]
  },
  {
   "cell_type": "markdown",
   "metadata": {},
   "source": [
    "## Visualizations"
   ]
  },
  {
   "cell_type": "code",
   "execution_count": 1,
   "metadata": {},
   "outputs": [],
   "source": [
    "#include framework model here -- tracking influenza-like illness "
   ]
  },
  {
   "cell_type": "code",
   "execution_count": 2,
   "metadata": {},
   "outputs": [],
   "source": [
    "#show distribution (count of flu-related tweets) over time \n",
    "#https://github.com/learn-co-students/ds-ts-visualize_ts-nyc-career-ds-062518/tree/solution\n",
    "#need Pandas Series with date and tweet count per date \n",
    "#overlay with CDC data to see how it corresponds -- have dropdown menu \n",
    "series_name.plot(figsize = (20,6))\n",
    "plt.show()"
   ]
  },
  {
   "cell_type": "code",
   "execution_count": 3,
   "metadata": {},
   "outputs": [],
   "source": [
    "#zoom in to see time distribution by state "
   ]
  },
  {
   "cell_type": "code",
   "execution_count": null,
   "metadata": {},
   "outputs": [],
   "source": [
    "#maybe heat map by month and days \n",
    "plt.matshow(months_df, interpolation=None, aspect='auto', cmap=plt.cm.Spectral_r)\n",
    "plt.show()"
   ]
  },
  {
   "cell_type": "markdown",
   "metadata": {},
   "source": [
    "## Correlation between CDC reports and ILI-tweets"
   ]
  },
  {
   "cell_type": "markdown",
   "metadata": {},
   "source": [
    "### Auto-Correlation "
   ]
  },
  {
   "cell_type": "code",
   "execution_count": null,
   "metadata": {},
   "outputs": [],
   "source": [
    "#check auto-correlation to assess seasonality? (maybe)"
   ]
  },
  {
   "cell_type": "markdown",
   "metadata": {},
   "source": [
    "### Pearson Correlation Coefficient"
   ]
  },
  {
   "cell_type": "code",
   "execution_count": 8,
   "metadata": {},
   "outputs": [],
   "source": [
    "#pearson correlation coefficient between CDC ILI visits and ILI tweets "
   ]
  },
  {
   "cell_type": "markdown",
   "metadata": {},
   "source": [
    "## ARIMA Modeling to Forecast Influenza-Like Cases"
   ]
  },
  {
   "cell_type": "code",
   "execution_count": null,
   "metadata": {},
   "outputs": [],
   "source": [
    "#predict ILI incidence as a linear function of current and \n",
    "#old Social Network data and historical ILI data (CDC data) -- assess model goodness of fit with AIC, lowest value \n",
    "#https://github.com/learn-co-students/ds-ts-ARIMA-nyc-career-ds-062518/tree/solution"
   ]
  },
  {
   "cell_type": "markdown",
   "metadata": {},
   "source": [
    "### Model with CDC data only"
   ]
  },
  {
   "cell_type": "code",
   "execution_count": null,
   "metadata": {},
   "outputs": [],
   "source": []
  },
  {
   "cell_type": "markdown",
   "metadata": {},
   "source": [
    "### Model with CDC & Twitter data"
   ]
  },
  {
   "cell_type": "code",
   "execution_count": null,
   "metadata": {},
   "outputs": [],
   "source": []
  },
  {
   "cell_type": "markdown",
   "metadata": {},
   "source": [
    "### Model Selection: Overview of Goodness-of-Fit Measures"
   ]
  },
  {
   "cell_type": "code",
   "execution_count": null,
   "metadata": {},
   "outputs": [],
   "source": []
  },
  {
   "cell_type": "markdown",
   "metadata": {},
   "source": [
    "### Model Validation: Forecasting"
   ]
  },
  {
   "cell_type": "code",
   "execution_count": 9,
   "metadata": {},
   "outputs": [],
   "source": [
    "#one-step ahead forecasting for best fitting model - comparing predicted values to real values of the time series, \n",
    "#which will help us understand the accuracy of our forecasts (use cross-fold validation)"
   ]
  },
  {
   "cell_type": "markdown",
   "metadata": {},
   "source": [
    "## Producing & Visualizing Forecasts"
   ]
  },
  {
   "cell_type": "code",
   "execution_count": null,
   "metadata": {},
   "outputs": [],
   "source": []
  }
 ],
 "metadata": {
  "kernelspec": {
   "display_name": "Python 3",
   "language": "python",
   "name": "python3"
  },
  "language_info": {
   "codemirror_mode": {
    "name": "ipython",
    "version": 3
   },
   "file_extension": ".py",
   "mimetype": "text/x-python",
   "name": "python",
   "nbconvert_exporter": "python",
   "pygments_lexer": "ipython3",
   "version": "3.6.5"
  }
 },
 "nbformat": 4,
 "nbformat_minor": 2
}

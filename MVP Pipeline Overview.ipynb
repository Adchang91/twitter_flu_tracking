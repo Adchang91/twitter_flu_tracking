{
 "cells": [
  {
   "cell_type": "code",
   "execution_count": 2,
   "metadata": {},
   "outputs": [],
   "source": [
    "import pandas as pd"
   ]
  },
  {
   "cell_type": "code",
   "execution_count": 3,
   "metadata": {
    "scrolled": true
   },
   "outputs": [
    {
     "name": "stdout",
     "output_type": "stream",
     "text": [
      "4563\n"
     ]
    },
    {
     "data": {
      "text/html": [
       "<div>\n",
       "<style scoped>\n",
       "    .dataframe tbody tr th:only-of-type {\n",
       "        vertical-align: middle;\n",
       "    }\n",
       "\n",
       "    .dataframe tbody tr th {\n",
       "        vertical-align: top;\n",
       "    }\n",
       "\n",
       "    .dataframe thead th {\n",
       "        text-align: right;\n",
       "    }\n",
       "</style>\n",
       "<table border=\"1\" class=\"dataframe\">\n",
       "  <thead>\n",
       "    <tr style=\"text-align: right;\">\n",
       "      <th></th>\n",
       "      <th>created_at</th>\n",
       "      <th>id</th>\n",
       "      <th>text</th>\n",
       "      <th>user_id</th>\n",
       "      <th>user_location</th>\n",
       "      <th>status</th>\n",
       "    </tr>\n",
       "  </thead>\n",
       "  <tbody>\n",
       "    <tr>\n",
       "      <th>4564</th>\n",
       "      <td>Mon Oct 05 11:18:04 +0000 2009</td>\n",
       "      <td>4625766602</td>\n",
       "      <td>Getting my flu (influenza only) shot today, so...</td>\n",
       "      <td>15321133.0</td>\n",
       "      <td>Tallahassee, FL</td>\n",
       "      <td>1.0</td>\n",
       "    </tr>\n",
       "    <tr>\n",
       "      <th>4565</th>\n",
       "      <td>Thu Sep 03 22:15:07 +0000 2009</td>\n",
       "      <td>3743344807</td>\n",
       "      <td>Fuck! I feel like I'm not getting any better.....</td>\n",
       "      <td>22867290.0</td>\n",
       "      <td>NaN</td>\n",
       "      <td>1.0</td>\n",
       "    </tr>\n",
       "    <tr>\n",
       "      <th>4566</th>\n",
       "      <td>Thu Sep 03 13:17:11 +0000 2009</td>\n",
       "      <td>3733228912</td>\n",
       "      <td>im planning on getting a flu shot today... you...</td>\n",
       "      <td>25675148.0</td>\n",
       "      <td>Los Angeles, CA</td>\n",
       "      <td>1.0</td>\n",
       "    </tr>\n",
       "    <tr>\n",
       "      <th>4567</th>\n",
       "      <td>Sat Oct 03 18:25:15 +0000 2009</td>\n",
       "      <td>4584372810</td>\n",
       "      <td>To Flu Vacc or not to Flu Vacc. the kids?Is th...</td>\n",
       "      <td>47384671.0</td>\n",
       "      <td>San Leandro, California</td>\n",
       "      <td>1.0</td>\n",
       "    </tr>\n",
       "    <tr>\n",
       "      <th>4568</th>\n",
       "      <td>Wed Sep 23 15:31:21 +0000 2009</td>\n",
       "      <td>4317760800</td>\n",
       "      <td>Recovering from possible flu - I'm so behind t...</td>\n",
       "      <td>15342186.0</td>\n",
       "      <td>Nashville</td>\n",
       "      <td>1.0</td>\n",
       "    </tr>\n",
       "  </tbody>\n",
       "</table>\n",
       "</div>"
      ],
      "text/plain": [
       "                          created_at          id  \\\n",
       "4564  Mon Oct 05 11:18:04 +0000 2009  4625766602   \n",
       "4565  Thu Sep 03 22:15:07 +0000 2009  3743344807   \n",
       "4566  Thu Sep 03 13:17:11 +0000 2009  3733228912   \n",
       "4567  Sat Oct 03 18:25:15 +0000 2009  4584372810   \n",
       "4568  Wed Sep 23 15:31:21 +0000 2009  4317760800   \n",
       "\n",
       "                                                   text     user_id  \\\n",
       "4564  Getting my flu (influenza only) shot today, so...  15321133.0   \n",
       "4565  Fuck! I feel like I'm not getting any better.....  22867290.0   \n",
       "4566  im planning on getting a flu shot today... you...  25675148.0   \n",
       "4567  To Flu Vacc or not to Flu Vacc. the kids?Is th...  47384671.0   \n",
       "4568  Recovering from possible flu - I'm so behind t...  15342186.0   \n",
       "\n",
       "                user_location  status  \n",
       "4564          Tallahassee, FL     1.0  \n",
       "4565                      NaN     1.0  \n",
       "4566          Los Angeles, CA     1.0  \n",
       "4567  San Leandro, California     1.0  \n",
       "4568                Nashville     1.0  "
      ]
     },
     "metadata": {},
     "output_type": "display_data"
    }
   ],
   "source": [
    "#import annotated data\n",
    "df = pd.read_csv('annotated_tweets.csv', engine='python')\n",
    "df = df.drop('Unnamed: 0', axis=1)\n",
    "df.at[2042, 'status'] = 1\n",
    "df.at[2001, 'status'] = 0\n",
    "df.at[2110, 'status'] = 0\n",
    "df = df.dropna(subset=['status'])\n",
    "print(len(df))\n",
    "display(df.tail())"
   ]
  },
  {
   "cell_type": "code",
   "execution_count": 6,
   "metadata": {},
   "outputs": [],
   "source": [
    "pos = df[df['status']==1.0]\n",
    "neg = df[df['status']==0.0]"
   ]
  },
  {
   "cell_type": "code",
   "execution_count": 7,
   "metadata": {},
   "outputs": [
    {
     "data": {
      "text/html": [
       "<div>\n",
       "<style scoped>\n",
       "    .dataframe tbody tr th:only-of-type {\n",
       "        vertical-align: middle;\n",
       "    }\n",
       "\n",
       "    .dataframe tbody tr th {\n",
       "        vertical-align: top;\n",
       "    }\n",
       "\n",
       "    .dataframe thead th {\n",
       "        text-align: right;\n",
       "    }\n",
       "</style>\n",
       "<table border=\"1\" class=\"dataframe\">\n",
       "  <thead>\n",
       "    <tr style=\"text-align: right;\">\n",
       "      <th></th>\n",
       "      <th>created_at</th>\n",
       "      <th>id</th>\n",
       "      <th>text</th>\n",
       "      <th>user_id</th>\n",
       "      <th>user_location</th>\n",
       "      <th>status</th>\n",
       "    </tr>\n",
       "  </thead>\n",
       "  <tbody>\n",
       "    <tr>\n",
       "      <th>0</th>\n",
       "      <td>Wed Oct 28 11:36:12 +0000 2009</td>\n",
       "      <td>5228025912</td>\n",
       "      <td>isn't afraid if swine flu. Swine flu is afraid...</td>\n",
       "      <td>29536454.0</td>\n",
       "      <td>Acworth, GA</td>\n",
       "      <td>0.0</td>\n",
       "    </tr>\n",
       "    <tr>\n",
       "      <th>1</th>\n",
       "      <td>Sat Nov 21 11:28:07 +0000 2009</td>\n",
       "      <td>5916627706</td>\n",
       "      <td>Reported Human Cases Of Bird Flu Or H5N1 Influ...</td>\n",
       "      <td>85937238.0</td>\n",
       "      <td>NaN</td>\n",
       "      <td>0.0</td>\n",
       "    </tr>\n",
       "    <tr>\n",
       "      <th>2</th>\n",
       "      <td>Wed Sep 16 18:47:37 +0000 2009</td>\n",
       "      <td>4035378107</td>\n",
       "      <td>RT @MattBesser Kanye just stopped the swine fl...</td>\n",
       "      <td>19524887.0</td>\n",
       "      <td>Los Angeles, CA</td>\n",
       "      <td>0.0</td>\n",
       "    </tr>\n",
       "    <tr>\n",
       "      <th>3</th>\n",
       "      <td>Mon Nov 23 22:09:26 +0000 2009</td>\n",
       "      <td>5989190910</td>\n",
       "      <td>RT @cherylp59: @orionbooks review : The Things...</td>\n",
       "      <td>24870223.0</td>\n",
       "      <td>London, UK</td>\n",
       "      <td>0.0</td>\n",
       "    </tr>\n",
       "    <tr>\n",
       "      <th>5</th>\n",
       "      <td>Wed Oct 28 06:56:27 +0000 2009</td>\n",
       "      <td>5224474202</td>\n",
       "      <td>Anxious Crowds Meet Ad Hoc Swine Flu Police ht...</td>\n",
       "      <td>36680785.0</td>\n",
       "      <td>San Diego, CA</td>\n",
       "      <td>0.0</td>\n",
       "    </tr>\n",
       "    <tr>\n",
       "      <th>6</th>\n",
       "      <td>Sat Nov 21 08:35:22 +0000 2009</td>\n",
       "      <td>5914591601</td>\n",
       "      <td>getting ready for Magda's flu jab in Cester, a...</td>\n",
       "      <td>15499902.0</td>\n",
       "      <td>United Kingdom</td>\n",
       "      <td>0.0</td>\n",
       "    </tr>\n",
       "    <tr>\n",
       "      <th>7</th>\n",
       "      <td>Wed Oct 28 08:35:52 +0000 2009</td>\n",
       "      <td>5225636907</td>\n",
       "      <td>#H1N1 #Swine_flu on 3 Fav Sources like Gawker-...</td>\n",
       "      <td>74001621.0</td>\n",
       "      <td>NaN</td>\n",
       "      <td>0.0</td>\n",
       "    </tr>\n",
       "    <tr>\n",
       "      <th>8</th>\n",
       "      <td>Wed Oct 28 05:33:40 +0000 2009</td>\n",
       "      <td>5223384001</td>\n",
       "      <td>Anxious Crowds Meet Ad Hoc Swine Flu Police: E...</td>\n",
       "      <td>45772406.0</td>\n",
       "      <td>wisconsin</td>\n",
       "      <td>0.0</td>\n",
       "    </tr>\n",
       "    <tr>\n",
       "      <th>9</th>\n",
       "      <td>Wed Oct 28 10:10:20 +0000 2009</td>\n",
       "      <td>5226749813</td>\n",
       "      <td>from times &amp; transcr Who's getting flu shots?:...</td>\n",
       "      <td>44871180.0</td>\n",
       "      <td>moncton</td>\n",
       "      <td>0.0</td>\n",
       "    </tr>\n",
       "    <tr>\n",
       "      <th>10</th>\n",
       "      <td>Wed Oct 28 06:34:13 +0000 2009</td>\n",
       "      <td>5224196304</td>\n",
       "      <td>#SwineFlu Anxious Crowds Meet Ad Hoc Swine Flu...</td>\n",
       "      <td>61598605.0</td>\n",
       "      <td>NaN</td>\n",
       "      <td>0.0</td>\n",
       "    </tr>\n",
       "    <tr>\n",
       "      <th>11</th>\n",
       "      <td>Wed Oct 28 13:21:24 +0000 2009</td>\n",
       "      <td>5229862512</td>\n",
       "      <td>Flu pandemic fear: too many people home sick o...</td>\n",
       "      <td>19181419.0</td>\n",
       "      <td>UK</td>\n",
       "      <td>0.0</td>\n",
       "    </tr>\n",
       "    <tr>\n",
       "      <th>12</th>\n",
       "      <td>Wed Oct 28 11:53:50 +0000 2009</td>\n",
       "      <td>5228293608</td>\n",
       "      <td>isn't afraid of swine flu. Swine flu is afraid...</td>\n",
       "      <td>29536454.0</td>\n",
       "      <td>Acworth, GA</td>\n",
       "      <td>0.0</td>\n",
       "    </tr>\n",
       "    <tr>\n",
       "      <th>13</th>\n",
       "      <td>Sat Nov 21 04:13:03 +0000 2009</td>\n",
       "      <td>5910444600</td>\n",
       "      <td>Need Help with H1N1 Vaccine Fear? Sid the Scie...</td>\n",
       "      <td>41627333.0</td>\n",
       "      <td>US</td>\n",
       "      <td>0.0</td>\n",
       "    </tr>\n",
       "    <tr>\n",
       "      <th>14</th>\n",
       "      <td>Sat Nov 21 09:25:49 +0000 2009</td>\n",
       "      <td>5915190411</td>\n",
       "      <td>Worried about the news that under 5's having s...</td>\n",
       "      <td>89155815.0</td>\n",
       "      <td>NaN</td>\n",
       "      <td>0.0</td>\n",
       "    </tr>\n",
       "    <tr>\n",
       "      <th>15</th>\n",
       "      <td>Wed Oct 28 10:51:09 +0000 2009</td>\n",
       "      <td>5227332401</td>\n",
       "      <td>Hahahahaha wow! RT @michaelianblack: Swine flu...</td>\n",
       "      <td>26862062.0</td>\n",
       "      <td>stuck in 1985 (Cincinnati, OH)</td>\n",
       "      <td>0.0</td>\n",
       "    </tr>\n",
       "    <tr>\n",
       "      <th>16</th>\n",
       "      <td>Wed Oct 28 14:15:48 +0000 2009</td>\n",
       "      <td>5231028203</td>\n",
       "      <td>Higher-Risk Groups Getting Vaccine First: Whil...</td>\n",
       "      <td>45949528.0</td>\n",
       "      <td>Wyoming</td>\n",
       "      <td>0.0</td>\n",
       "    </tr>\n",
       "    <tr>\n",
       "      <th>17</th>\n",
       "      <td>Sat Nov 21 08:10:21 +0000 2009</td>\n",
       "      <td>5914277313</td>\n",
       "      <td>Another Update Re:\"H1N1 'super flu' plague in ...</td>\n",
       "      <td>28761984.0</td>\n",
       "      <td>Southern West Virginia</td>\n",
       "      <td>0.0</td>\n",
       "    </tr>\n",
       "    <tr>\n",
       "      <th>18</th>\n",
       "      <td>Wed Oct 28 07:44:04 +0000 2009</td>\n",
       "      <td>5225048808</td>\n",
       "      <td>@spurofmom3nt - Who? Dennis? Certainly not, I ...</td>\n",
       "      <td>14558504.0</td>\n",
       "      <td>Sydney, Australia</td>\n",
       "      <td>0.0</td>\n",
       "    </tr>\n",
       "    <tr>\n",
       "      <th>21</th>\n",
       "      <td>Wed Oct 28 07:03:08 +0000 2009</td>\n",
       "      <td>5224558504</td>\n",
       "      <td>RT @michaelianblack Swine flu is getting a lit...</td>\n",
       "      <td>19092441.0</td>\n",
       "      <td>Hollywood, CA</td>\n",
       "      <td>0.0</td>\n",
       "    </tr>\n",
       "    <tr>\n",
       "      <th>22</th>\n",
       "      <td>Wed Sep 16 17:29:14 +0000 2009</td>\n",
       "      <td>4033778103</td>\n",
       "      <td>#swineflu Saudis dismiss Hajj swine flu fears ...</td>\n",
       "      <td>35578472.0</td>\n",
       "      <td>NaN</td>\n",
       "      <td>0.0</td>\n",
       "    </tr>\n",
       "    <tr>\n",
       "      <th>26</th>\n",
       "      <td>Sat Nov 21 18:34:08 +0000 2009</td>\n",
       "      <td>5924817404</td>\n",
       "      <td>Gucci Mane - Uptown Bird Flu.\\nhttp://www.medi...</td>\n",
       "      <td>66483264.0</td>\n",
       "      <td>Brasil</td>\n",
       "      <td>0.0</td>\n",
       "    </tr>\n",
       "    <tr>\n",
       "      <th>27</th>\n",
       "      <td>Tue Nov 24 09:05:38 +0000 2009</td>\n",
       "      <td>6003455112</td>\n",
       "      <td>Nov 23, Cold Remedies; Getting Ready for the C...</td>\n",
       "      <td>17797408.0</td>\n",
       "      <td>Greenwood, BC</td>\n",
       "      <td>0.0</td>\n",
       "    </tr>\n",
       "    <tr>\n",
       "      <th>28</th>\n",
       "      <td>Wed Oct 28 14:35:42 +0000 2009</td>\n",
       "      <td>5231484105</td>\n",
       "      <td>Go to mrsimcard.com The difference between Bir...</td>\n",
       "      <td>37336052.0</td>\n",
       "      <td>On Tour Now!  Oink Oink!</td>\n",
       "      <td>0.0</td>\n",
       "    </tr>\n",
       "    <tr>\n",
       "      <th>29</th>\n",
       "      <td>Wed Oct 28 13:50:35 +0000 2009</td>\n",
       "      <td>5230470108</td>\n",
       "      <td>How to Avoid Getting the Flu or Cold: http://b...</td>\n",
       "      <td>43916534.0</td>\n",
       "      <td>Manning, SC</td>\n",
       "      <td>0.0</td>\n",
       "    </tr>\n",
       "    <tr>\n",
       "      <th>30</th>\n",
       "      <td>Mon Nov 23 22:27:22 +0000 2009</td>\n",
       "      <td>5989668305</td>\n",
       "      <td>Swine Flu vs. Bird Flu vs. Zombie Flu http://b...</td>\n",
       "      <td>21849425.0</td>\n",
       "      <td>World Wide Web</td>\n",
       "      <td>0.0</td>\n",
       "    </tr>\n",
       "    <tr>\n",
       "      <th>31</th>\n",
       "      <td>Wed Oct 28 06:14:13 +0000 2009</td>\n",
       "      <td>5223930112</td>\n",
       "      <td>New post: Anxious Crowds Meet Ad Hoc Swine Flu...</td>\n",
       "      <td>39017961.0</td>\n",
       "      <td>NaN</td>\n",
       "      <td>0.0</td>\n",
       "    </tr>\n",
       "    <tr>\n",
       "      <th>36</th>\n",
       "      <td>Sat Nov 21 10:55:02 +0000 2009</td>\n",
       "      <td>5916224700</td>\n",
       "      <td>Swine Flu Vaccine Egypt: health and safety--me...</td>\n",
       "      <td>65367158.0</td>\n",
       "      <td>NaN</td>\n",
       "      <td>0.0</td>\n",
       "    </tr>\n",
       "    <tr>\n",
       "      <th>37</th>\n",
       "      <td>Wed Oct 28 11:09:38 +0000 2009</td>\n",
       "      <td>5227617110</td>\n",
       "      <td>Does anyone have any intel re: swine flu jab a...</td>\n",
       "      <td>82460114.0</td>\n",
       "      <td>Shrewsbury, UK</td>\n",
       "      <td>0.0</td>\n",
       "    </tr>\n",
       "    <tr>\n",
       "      <th>39</th>\n",
       "      <td>Mon Oct 05 19:53:43 +0000 2009</td>\n",
       "      <td>4636047505</td>\n",
       "      <td>Canadian studies says people getting the seaso...</td>\n",
       "      <td>15468530.0</td>\n",
       "      <td>Seattle, Washingtion</td>\n",
       "      <td>0.0</td>\n",
       "    </tr>\n",
       "    <tr>\n",
       "      <th>42</th>\n",
       "      <td>Wed Oct 28 11:07:09 +0000 2009</td>\n",
       "      <td>5227578605</td>\n",
       "      <td>RT @michaelianblack: Swine flu is getting a li...</td>\n",
       "      <td>10981782.0</td>\n",
       "      <td>Tyler, TX</td>\n",
       "      <td>0.0</td>\n",
       "    </tr>\n",
       "    <tr>\n",
       "      <th>...</th>\n",
       "      <td>...</td>\n",
       "      <td>...</td>\n",
       "      <td>...</td>\n",
       "      <td>...</td>\n",
       "      <td>...</td>\n",
       "      <td>...</td>\n",
       "    </tr>\n",
       "    <tr>\n",
       "      <th>3464</th>\n",
       "      <td>Mon Oct 12 14:09:46 +0000 2009</td>\n",
       "      <td>4809184106</td>\n",
       "      <td>Vaccine ingredients exposed.Don't let the medi...</td>\n",
       "      <td>18442625.0</td>\n",
       "      <td>San Diego California</td>\n",
       "      <td>0.0</td>\n",
       "    </tr>\n",
       "    <tr>\n",
       "      <th>3468</th>\n",
       "      <td>Mon Oct 12 18:13:16 +0000 2009</td>\n",
       "      <td>4814083513</td>\n",
       "      <td>getting over the flu ... http://lnk.ms/3DjQ5</td>\n",
       "      <td>66282539.0</td>\n",
       "      <td>Somerville, MA</td>\n",
       "      <td>0.0</td>\n",
       "    </tr>\n",
       "    <tr>\n",
       "      <th>3484</th>\n",
       "      <td>Mon Oct 12 17:35:52 +0000 2009</td>\n",
       "      <td>4813434507</td>\n",
       "      <td>RT@nytimeshealth: Nothing to Fear but the Flu ...</td>\n",
       "      <td>40961186.0</td>\n",
       "      <td>Napa/Solano Counties, CA</td>\n",
       "      <td>0.0</td>\n",
       "    </tr>\n",
       "    <tr>\n",
       "      <th>3509</th>\n",
       "      <td>Mon Oct 12 16:04:37 +0000 2009</td>\n",
       "      <td>4811677809</td>\n",
       "      <td>Nothing to Fear but the Flu Itself (NY Times) ...</td>\n",
       "      <td>39844876.0</td>\n",
       "      <td>Georgia USA</td>\n",
       "      <td>0.0</td>\n",
       "    </tr>\n",
       "    <tr>\n",
       "      <th>3535</th>\n",
       "      <td>Mon Oct 05 09:32:36 +0000 2009</td>\n",
       "      <td>4624560710</td>\n",
       "      <td>Swine Flu - How worried are you? - Take our po...</td>\n",
       "      <td>59468255.0</td>\n",
       "      <td>USA</td>\n",
       "      <td>0.0</td>\n",
       "    </tr>\n",
       "    <tr>\n",
       "      <th>3568</th>\n",
       "      <td>Mon Sep 21 03:17:17 +0000 2009</td>\n",
       "      <td>4138681600</td>\n",
       "      <td>Do you know the difference between the bird fl...</td>\n",
       "      <td>28004150.0</td>\n",
       "      <td>Southeastern KY....for now</td>\n",
       "      <td>0.0</td>\n",
       "    </tr>\n",
       "    <tr>\n",
       "      <th>3611</th>\n",
       "      <td>Mon Aug 31 18:07:37 +0000 2009</td>\n",
       "      <td>3670420609</td>\n",
       "      <td>If you are worried at all about swine flu then...</td>\n",
       "      <td>35427173.0</td>\n",
       "      <td>Tuggerah, Australia</td>\n",
       "      <td>0.0</td>\n",
       "    </tr>\n",
       "    <tr>\n",
       "      <th>3689</th>\n",
       "      <td>Wed Sep 09 00:20:27 +0000 2009</td>\n",
       "      <td>3852258402</td>\n",
       "      <td>@sluggirl I'm actually a little surprised that...</td>\n",
       "      <td>14212551.0</td>\n",
       "      <td>East Setauket, NY</td>\n",
       "      <td>0.0</td>\n",
       "    </tr>\n",
       "    <tr>\n",
       "      <th>3736</th>\n",
       "      <td>Mon Oct 05 09:32:36 +0000 2009</td>\n",
       "      <td>4624560710</td>\n",
       "      <td>Swine Flu - How worried are you? - Take our po...</td>\n",
       "      <td>59468255.0</td>\n",
       "      <td>USA</td>\n",
       "      <td>0.0</td>\n",
       "    </tr>\n",
       "    <tr>\n",
       "      <th>3758</th>\n",
       "      <td>Sat Sep 12 17:20:11 +0000 2009</td>\n",
       "      <td>3937273901</td>\n",
       "      <td>At least I may have some immunity if the 'pand...</td>\n",
       "      <td>64302965.0</td>\n",
       "      <td>Victoria,  BC, Canada</td>\n",
       "      <td>0.0</td>\n",
       "    </tr>\n",
       "    <tr>\n",
       "      <th>3783</th>\n",
       "      <td>Mon Sep 14 18:15:20 +0000 2009</td>\n",
       "      <td>3985240211</td>\n",
       "      <td>Fluheadlines U of M expert fears H1N1 flu vacc...</td>\n",
       "      <td>35345637.0</td>\n",
       "      <td>NaN</td>\n",
       "      <td>0.0</td>\n",
       "    </tr>\n",
       "    <tr>\n",
       "      <th>3942</th>\n",
       "      <td>Thu Oct 08 03:44:12 +0000 2009</td>\n",
       "      <td>4700779606</td>\n",
       "      <td>RT @MaxLucado: For the bird flu you need tweet...</td>\n",
       "      <td>51206854.0</td>\n",
       "      <td>Toronto, Canada</td>\n",
       "      <td>0.0</td>\n",
       "    </tr>\n",
       "    <tr>\n",
       "      <th>3948</th>\n",
       "      <td>Tue Oct 06 19:50:35 +0000 2009</td>\n",
       "      <td>4663096306</td>\n",
       "      <td>I'm going to get the flu shot, because getting...</td>\n",
       "      <td>19087299.0</td>\n",
       "      <td>NaN</td>\n",
       "      <td>0.0</td>\n",
       "    </tr>\n",
       "    <tr>\n",
       "      <th>4136</th>\n",
       "      <td>Fri Sep 11 12:49:04 +0000 2009</td>\n",
       "      <td>3910264501</td>\n",
       "      <td>Link: Khaleej Times Online - Egypt school star...</td>\n",
       "      <td>11316572.0</td>\n",
       "      <td>Shithole</td>\n",
       "      <td>0.0</td>\n",
       "    </tr>\n",
       "    <tr>\n",
       "      <th>4188</th>\n",
       "      <td>Thu Oct 01 03:16:32 +0000 2009</td>\n",
       "      <td>4515760605</td>\n",
       "      <td>I'm getting a flu shot for the ones I love - e...</td>\n",
       "      <td>17666138.0</td>\n",
       "      <td>NaN</td>\n",
       "      <td>0.0</td>\n",
       "    </tr>\n",
       "    <tr>\n",
       "      <th>4224</th>\n",
       "      <td>Mon Sep 14 21:33:21 +0000 2009</td>\n",
       "      <td>3989180712</td>\n",
       "      <td>Episcopal Relief &amp; Development                ...</td>\n",
       "      <td>17626102.0</td>\n",
       "      <td>New York, NY</td>\n",
       "      <td>0.0</td>\n",
       "    </tr>\n",
       "    <tr>\n",
       "      <th>4234</th>\n",
       "      <td>Thu Oct 08 16:31:52 +0000 2009</td>\n",
       "      <td>4711904805</td>\n",
       "      <td>Bird kill, bag ban, flu death, tax break and o...</td>\n",
       "      <td>72475110.0</td>\n",
       "      <td>NaN</td>\n",
       "      <td>0.0</td>\n",
       "    </tr>\n",
       "    <tr>\n",
       "      <th>4236</th>\n",
       "      <td>Sun Oct 04 18:00:58 +0000 2009</td>\n",
       "      <td>4607707014</td>\n",
       "      <td>Also could this virus have been related to the...</td>\n",
       "      <td>37293450.0</td>\n",
       "      <td>KANSAS CITY</td>\n",
       "      <td>0.0</td>\n",
       "    </tr>\n",
       "    <tr>\n",
       "      <th>4305</th>\n",
       "      <td>Mon Oct 05 09:32:36 +0000 2009</td>\n",
       "      <td>4624560710</td>\n",
       "      <td>Swine Flu - How worried are you? - Take our po...</td>\n",
       "      <td>59468255.0</td>\n",
       "      <td>USA</td>\n",
       "      <td>0.0</td>\n",
       "    </tr>\n",
       "    <tr>\n",
       "      <th>4345</th>\n",
       "      <td>Sun Aug 30 13:06:26 +0000 2009</td>\n",
       "      <td>3644630507</td>\n",
       "      <td>The approach of winter and flu has you worried...</td>\n",
       "      <td>37407459.0</td>\n",
       "      <td>Back of Bourke</td>\n",
       "      <td>0.0</td>\n",
       "    </tr>\n",
       "    <tr>\n",
       "      <th>4384</th>\n",
       "      <td>Thu Oct 01 03:16:32 +0000 2009</td>\n",
       "      <td>4515760605</td>\n",
       "      <td>I'm getting a flu shot for the ones I love - e...</td>\n",
       "      <td>17666138.0</td>\n",
       "      <td>NaN</td>\n",
       "      <td>0.0</td>\n",
       "    </tr>\n",
       "    <tr>\n",
       "      <th>4400</th>\n",
       "      <td>Fri Oct 09 08:56:46 +0000 2009</td>\n",
       "      <td>4730366601</td>\n",
       "      <td>Bird flu, Mad Cow disease, and Swine Flu. Oh m...</td>\n",
       "      <td>23091468.0</td>\n",
       "      <td>Worcester UK</td>\n",
       "      <td>0.0</td>\n",
       "    </tr>\n",
       "    <tr>\n",
       "      <th>4402</th>\n",
       "      <td>Sun Aug 30 13:06:26 +0000 2009</td>\n",
       "      <td>3644630507</td>\n",
       "      <td>The approach of winter and flu has you worried...</td>\n",
       "      <td>37407459.0</td>\n",
       "      <td>Back of Bourke</td>\n",
       "      <td>0.0</td>\n",
       "    </tr>\n",
       "    <tr>\n",
       "      <th>4442</th>\n",
       "      <td>Thu Oct 01 03:16:32 +0000 2009</td>\n",
       "      <td>4515760605</td>\n",
       "      <td>I'm getting a flu shot for the ones I love - e...</td>\n",
       "      <td>17666138.0</td>\n",
       "      <td>NaN</td>\n",
       "      <td>0.0</td>\n",
       "    </tr>\n",
       "    <tr>\n",
       "      <th>4463</th>\n",
       "      <td>Sun Aug 30 13:06:26 +0000 2009</td>\n",
       "      <td>3644630507</td>\n",
       "      <td>The approach of winter and flu has you worried...</td>\n",
       "      <td>37407459.0</td>\n",
       "      <td>Back of Bourke</td>\n",
       "      <td>0.0</td>\n",
       "    </tr>\n",
       "    <tr>\n",
       "      <th>4508</th>\n",
       "      <td>Thu Oct 01 03:16:32 +0000 2009</td>\n",
       "      <td>4515760605</td>\n",
       "      <td>I'm getting a flu shot for the ones I love - e...</td>\n",
       "      <td>17666138.0</td>\n",
       "      <td>NaN</td>\n",
       "      <td>0.0</td>\n",
       "    </tr>\n",
       "    <tr>\n",
       "      <th>4519</th>\n",
       "      <td>Sat Oct 10 06:13:07 +0000 2009</td>\n",
       "      <td>4755526304</td>\n",
       "      <td>Reading about H1N1(Swine Flu) and getting the ...</td>\n",
       "      <td>15564642.0</td>\n",
       "      <td>Florida</td>\n",
       "      <td>0.0</td>\n",
       "    </tr>\n",
       "    <tr>\n",
       "      <th>4522</th>\n",
       "      <td>Mon Oct 05 05:49:02 +0000 2009</td>\n",
       "      <td>4622116701</td>\n",
       "      <td>Seasonal Flu Shots Double Risk of Getting Swin...</td>\n",
       "      <td>9932532.0</td>\n",
       "      <td>Stillwater (Mostly)</td>\n",
       "      <td>0.0</td>\n",
       "    </tr>\n",
       "    <tr>\n",
       "      <th>4538</th>\n",
       "      <td>Wed Aug 26 16:24:40 +0000 2009</td>\n",
       "      <td>3559289903</td>\n",
       "      <td>Thrive during flu pandemic and depression. Lea...</td>\n",
       "      <td>19114952.0</td>\n",
       "      <td>NaN</td>\n",
       "      <td>0.0</td>\n",
       "    </tr>\n",
       "    <tr>\n",
       "      <th>4542</th>\n",
       "      <td>Fri Oct 09 14:04:02 +0000 2009</td>\n",
       "      <td>4734926706</td>\n",
       "      <td>Here's my question. Swine flu vaccine - you ge...</td>\n",
       "      <td>17487219.0</td>\n",
       "      <td>Probably on the road</td>\n",
       "      <td>0.0</td>\n",
       "    </tr>\n",
       "  </tbody>\n",
       "</table>\n",
       "<p>2046 rows × 6 columns</p>\n",
       "</div>"
      ],
      "text/plain": [
       "                          created_at          id  \\\n",
       "0     Wed Oct 28 11:36:12 +0000 2009  5228025912   \n",
       "1     Sat Nov 21 11:28:07 +0000 2009  5916627706   \n",
       "2     Wed Sep 16 18:47:37 +0000 2009  4035378107   \n",
       "3     Mon Nov 23 22:09:26 +0000 2009  5989190910   \n",
       "5     Wed Oct 28 06:56:27 +0000 2009  5224474202   \n",
       "6     Sat Nov 21 08:35:22 +0000 2009  5914591601   \n",
       "7     Wed Oct 28 08:35:52 +0000 2009  5225636907   \n",
       "8     Wed Oct 28 05:33:40 +0000 2009  5223384001   \n",
       "9     Wed Oct 28 10:10:20 +0000 2009  5226749813   \n",
       "10    Wed Oct 28 06:34:13 +0000 2009  5224196304   \n",
       "11    Wed Oct 28 13:21:24 +0000 2009  5229862512   \n",
       "12    Wed Oct 28 11:53:50 +0000 2009  5228293608   \n",
       "13    Sat Nov 21 04:13:03 +0000 2009  5910444600   \n",
       "14    Sat Nov 21 09:25:49 +0000 2009  5915190411   \n",
       "15    Wed Oct 28 10:51:09 +0000 2009  5227332401   \n",
       "16    Wed Oct 28 14:15:48 +0000 2009  5231028203   \n",
       "17    Sat Nov 21 08:10:21 +0000 2009  5914277313   \n",
       "18    Wed Oct 28 07:44:04 +0000 2009  5225048808   \n",
       "21    Wed Oct 28 07:03:08 +0000 2009  5224558504   \n",
       "22    Wed Sep 16 17:29:14 +0000 2009  4033778103   \n",
       "26    Sat Nov 21 18:34:08 +0000 2009  5924817404   \n",
       "27    Tue Nov 24 09:05:38 +0000 2009  6003455112   \n",
       "28    Wed Oct 28 14:35:42 +0000 2009  5231484105   \n",
       "29    Wed Oct 28 13:50:35 +0000 2009  5230470108   \n",
       "30    Mon Nov 23 22:27:22 +0000 2009  5989668305   \n",
       "31    Wed Oct 28 06:14:13 +0000 2009  5223930112   \n",
       "36    Sat Nov 21 10:55:02 +0000 2009  5916224700   \n",
       "37    Wed Oct 28 11:09:38 +0000 2009  5227617110   \n",
       "39    Mon Oct 05 19:53:43 +0000 2009  4636047505   \n",
       "42    Wed Oct 28 11:07:09 +0000 2009  5227578605   \n",
       "...                              ...         ...   \n",
       "3464  Mon Oct 12 14:09:46 +0000 2009  4809184106   \n",
       "3468  Mon Oct 12 18:13:16 +0000 2009  4814083513   \n",
       "3484  Mon Oct 12 17:35:52 +0000 2009  4813434507   \n",
       "3509  Mon Oct 12 16:04:37 +0000 2009  4811677809   \n",
       "3535  Mon Oct 05 09:32:36 +0000 2009  4624560710   \n",
       "3568  Mon Sep 21 03:17:17 +0000 2009  4138681600   \n",
       "3611  Mon Aug 31 18:07:37 +0000 2009  3670420609   \n",
       "3689  Wed Sep 09 00:20:27 +0000 2009  3852258402   \n",
       "3736  Mon Oct 05 09:32:36 +0000 2009  4624560710   \n",
       "3758  Sat Sep 12 17:20:11 +0000 2009  3937273901   \n",
       "3783  Mon Sep 14 18:15:20 +0000 2009  3985240211   \n",
       "3942  Thu Oct 08 03:44:12 +0000 2009  4700779606   \n",
       "3948  Tue Oct 06 19:50:35 +0000 2009  4663096306   \n",
       "4136  Fri Sep 11 12:49:04 +0000 2009  3910264501   \n",
       "4188  Thu Oct 01 03:16:32 +0000 2009  4515760605   \n",
       "4224  Mon Sep 14 21:33:21 +0000 2009  3989180712   \n",
       "4234  Thu Oct 08 16:31:52 +0000 2009  4711904805   \n",
       "4236  Sun Oct 04 18:00:58 +0000 2009  4607707014   \n",
       "4305  Mon Oct 05 09:32:36 +0000 2009  4624560710   \n",
       "4345  Sun Aug 30 13:06:26 +0000 2009  3644630507   \n",
       "4384  Thu Oct 01 03:16:32 +0000 2009  4515760605   \n",
       "4400  Fri Oct 09 08:56:46 +0000 2009  4730366601   \n",
       "4402  Sun Aug 30 13:06:26 +0000 2009  3644630507   \n",
       "4442  Thu Oct 01 03:16:32 +0000 2009  4515760605   \n",
       "4463  Sun Aug 30 13:06:26 +0000 2009  3644630507   \n",
       "4508  Thu Oct 01 03:16:32 +0000 2009  4515760605   \n",
       "4519  Sat Oct 10 06:13:07 +0000 2009  4755526304   \n",
       "4522  Mon Oct 05 05:49:02 +0000 2009  4622116701   \n",
       "4538  Wed Aug 26 16:24:40 +0000 2009  3559289903   \n",
       "4542  Fri Oct 09 14:04:02 +0000 2009  4734926706   \n",
       "\n",
       "                                                   text     user_id  \\\n",
       "0     isn't afraid if swine flu. Swine flu is afraid...  29536454.0   \n",
       "1     Reported Human Cases Of Bird Flu Or H5N1 Influ...  85937238.0   \n",
       "2     RT @MattBesser Kanye just stopped the swine fl...  19524887.0   \n",
       "3     RT @cherylp59: @orionbooks review : The Things...  24870223.0   \n",
       "5     Anxious Crowds Meet Ad Hoc Swine Flu Police ht...  36680785.0   \n",
       "6     getting ready for Magda's flu jab in Cester, a...  15499902.0   \n",
       "7     #H1N1 #Swine_flu on 3 Fav Sources like Gawker-...  74001621.0   \n",
       "8     Anxious Crowds Meet Ad Hoc Swine Flu Police: E...  45772406.0   \n",
       "9     from times & transcr Who's getting flu shots?:...  44871180.0   \n",
       "10    #SwineFlu Anxious Crowds Meet Ad Hoc Swine Flu...  61598605.0   \n",
       "11    Flu pandemic fear: too many people home sick o...  19181419.0   \n",
       "12    isn't afraid of swine flu. Swine flu is afraid...  29536454.0   \n",
       "13    Need Help with H1N1 Vaccine Fear? Sid the Scie...  41627333.0   \n",
       "14    Worried about the news that under 5's having s...  89155815.0   \n",
       "15    Hahahahaha wow! RT @michaelianblack: Swine flu...  26862062.0   \n",
       "16    Higher-Risk Groups Getting Vaccine First: Whil...  45949528.0   \n",
       "17    Another Update Re:\"H1N1 'super flu' plague in ...  28761984.0   \n",
       "18    @spurofmom3nt - Who? Dennis? Certainly not, I ...  14558504.0   \n",
       "21    RT @michaelianblack Swine flu is getting a lit...  19092441.0   \n",
       "22    #swineflu Saudis dismiss Hajj swine flu fears ...  35578472.0   \n",
       "26    Gucci Mane - Uptown Bird Flu.\\nhttp://www.medi...  66483264.0   \n",
       "27    Nov 23, Cold Remedies; Getting Ready for the C...  17797408.0   \n",
       "28    Go to mrsimcard.com The difference between Bir...  37336052.0   \n",
       "29    How to Avoid Getting the Flu or Cold: http://b...  43916534.0   \n",
       "30    Swine Flu vs. Bird Flu vs. Zombie Flu http://b...  21849425.0   \n",
       "31    New post: Anxious Crowds Meet Ad Hoc Swine Flu...  39017961.0   \n",
       "36    Swine Flu Vaccine Egypt: health and safety--me...  65367158.0   \n",
       "37    Does anyone have any intel re: swine flu jab a...  82460114.0   \n",
       "39    Canadian studies says people getting the seaso...  15468530.0   \n",
       "42    RT @michaelianblack: Swine flu is getting a li...  10981782.0   \n",
       "...                                                 ...         ...   \n",
       "3464  Vaccine ingredients exposed.Don't let the medi...  18442625.0   \n",
       "3468       getting over the flu ... http://lnk.ms/3DjQ5  66282539.0   \n",
       "3484  RT@nytimeshealth: Nothing to Fear but the Flu ...  40961186.0   \n",
       "3509  Nothing to Fear but the Flu Itself (NY Times) ...  39844876.0   \n",
       "3535  Swine Flu - How worried are you? - Take our po...  59468255.0   \n",
       "3568  Do you know the difference between the bird fl...  28004150.0   \n",
       "3611  If you are worried at all about swine flu then...  35427173.0   \n",
       "3689  @sluggirl I'm actually a little surprised that...  14212551.0   \n",
       "3736  Swine Flu - How worried are you? - Take our po...  59468255.0   \n",
       "3758  At least I may have some immunity if the 'pand...  64302965.0   \n",
       "3783  Fluheadlines U of M expert fears H1N1 flu vacc...  35345637.0   \n",
       "3942  RT @MaxLucado: For the bird flu you need tweet...  51206854.0   \n",
       "3948  I'm going to get the flu shot, because getting...  19087299.0   \n",
       "4136  Link: Khaleej Times Online - Egypt school star...  11316572.0   \n",
       "4188  I'm getting a flu shot for the ones I love - e...  17666138.0   \n",
       "4224  Episcopal Relief & Development                ...  17626102.0   \n",
       "4234  Bird kill, bag ban, flu death, tax break and o...  72475110.0   \n",
       "4236  Also could this virus have been related to the...  37293450.0   \n",
       "4305  Swine Flu - How worried are you? - Take our po...  59468255.0   \n",
       "4345  The approach of winter and flu has you worried...  37407459.0   \n",
       "4384  I'm getting a flu shot for the ones I love - e...  17666138.0   \n",
       "4400  Bird flu, Mad Cow disease, and Swine Flu. Oh m...  23091468.0   \n",
       "4402  The approach of winter and flu has you worried...  37407459.0   \n",
       "4442  I'm getting a flu shot for the ones I love - e...  17666138.0   \n",
       "4463  The approach of winter and flu has you worried...  37407459.0   \n",
       "4508  I'm getting a flu shot for the ones I love - e...  17666138.0   \n",
       "4519  Reading about H1N1(Swine Flu) and getting the ...  15564642.0   \n",
       "4522  Seasonal Flu Shots Double Risk of Getting Swin...   9932532.0   \n",
       "4538  Thrive during flu pandemic and depression. Lea...  19114952.0   \n",
       "4542  Here's my question. Swine flu vaccine - you ge...  17487219.0   \n",
       "\n",
       "                       user_location  status  \n",
       "0                        Acworth, GA     0.0  \n",
       "1                                NaN     0.0  \n",
       "2                    Los Angeles, CA     0.0  \n",
       "3                         London, UK     0.0  \n",
       "5                      San Diego, CA     0.0  \n",
       "6                     United Kingdom     0.0  \n",
       "7                                NaN     0.0  \n",
       "8                          wisconsin     0.0  \n",
       "9                            moncton     0.0  \n",
       "10                               NaN     0.0  \n",
       "11                                UK     0.0  \n",
       "12                       Acworth, GA     0.0  \n",
       "13                                US     0.0  \n",
       "14                               NaN     0.0  \n",
       "15    stuck in 1985 (Cincinnati, OH)     0.0  \n",
       "16                           Wyoming     0.0  \n",
       "17            Southern West Virginia     0.0  \n",
       "18                 Sydney, Australia     0.0  \n",
       "21                     Hollywood, CA     0.0  \n",
       "22                               NaN     0.0  \n",
       "26                            Brasil     0.0  \n",
       "27                     Greenwood, BC     0.0  \n",
       "28          On Tour Now!  Oink Oink!     0.0  \n",
       "29                       Manning, SC     0.0  \n",
       "30                    World Wide Web     0.0  \n",
       "31                               NaN     0.0  \n",
       "36                               NaN     0.0  \n",
       "37                    Shrewsbury, UK     0.0  \n",
       "39              Seattle, Washingtion     0.0  \n",
       "42                         Tyler, TX     0.0  \n",
       "...                              ...     ...  \n",
       "3464            San Diego California     0.0  \n",
       "3468                  Somerville, MA     0.0  \n",
       "3484        Napa/Solano Counties, CA     0.0  \n",
       "3509                     Georgia USA     0.0  \n",
       "3535                             USA     0.0  \n",
       "3568      Southeastern KY....for now     0.0  \n",
       "3611             Tuggerah, Australia     0.0  \n",
       "3689               East Setauket, NY     0.0  \n",
       "3736                             USA     0.0  \n",
       "3758           Victoria,  BC, Canada     0.0  \n",
       "3783                             NaN     0.0  \n",
       "3942                 Toronto, Canada     0.0  \n",
       "3948                             NaN     0.0  \n",
       "4136                        Shithole     0.0  \n",
       "4188                             NaN     0.0  \n",
       "4224                    New York, NY     0.0  \n",
       "4234                             NaN     0.0  \n",
       "4236                     KANSAS CITY     0.0  \n",
       "4305                             USA     0.0  \n",
       "4345                  Back of Bourke     0.0  \n",
       "4384                             NaN     0.0  \n",
       "4400                    Worcester UK     0.0  \n",
       "4402                  Back of Bourke     0.0  \n",
       "4442                             NaN     0.0  \n",
       "4463                  Back of Bourke     0.0  \n",
       "4508                             NaN     0.0  \n",
       "4519                         Florida     0.0  \n",
       "4522             Stillwater (Mostly)     0.0  \n",
       "4538                             NaN     0.0  \n",
       "4542            Probably on the road     0.0  \n",
       "\n",
       "[2046 rows x 6 columns]"
      ]
     },
     "execution_count": 7,
     "metadata": {},
     "output_type": "execute_result"
    }
   ],
   "source": [
    "neg"
   ]
  },
  {
   "cell_type": "code",
   "execution_count": 3,
   "metadata": {},
   "outputs": [
    {
     "data": {
      "text/html": [
       "<div>\n",
       "<style scoped>\n",
       "    .dataframe tbody tr th:only-of-type {\n",
       "        vertical-align: middle;\n",
       "    }\n",
       "\n",
       "    .dataframe tbody tr th {\n",
       "        vertical-align: top;\n",
       "    }\n",
       "\n",
       "    .dataframe thead th {\n",
       "        text-align: right;\n",
       "    }\n",
       "</style>\n",
       "<table border=\"1\" class=\"dataframe\">\n",
       "  <thead>\n",
       "    <tr style=\"text-align: right;\">\n",
       "      <th></th>\n",
       "      <th>created_at</th>\n",
       "      <th>id</th>\n",
       "      <th>text</th>\n",
       "      <th>user_id</th>\n",
       "      <th>user_location</th>\n",
       "      <th>status</th>\n",
       "    </tr>\n",
       "  </thead>\n",
       "  <tbody>\n",
       "  </tbody>\n",
       "</table>\n",
       "</div>"
      ],
      "text/plain": [
       "Empty DataFrame\n",
       "Columns: [created_at, id, text, user_id, user_location, status]\n",
       "Index: []"
      ]
     },
     "execution_count": 3,
     "metadata": {},
     "output_type": "execute_result"
    }
   ],
   "source": [
    "test = df[df['status'].isna() == True]\n",
    "test.head()"
   ]
  },
  {
   "cell_type": "code",
   "execution_count": 4,
   "metadata": {},
   "outputs": [
    {
     "name": "stderr",
     "output_type": "stream",
     "text": [
      "/anaconda3/lib/python3.6/site-packages/pandas/core/frame.py:2584: SettingWithCopyWarning: \n",
      "A value is trying to be set on a copy of a slice from a DataFrame\n",
      "\n",
      "See the caveats in the documentation: http://pandas.pydata.org/pandas-docs/stable/indexing.html#indexing-view-versus-copy\n",
      "  self.loc[index, col] = value\n"
     ]
    }
   ],
   "source": [
    "test.at[2042, 'status'] = 1\n",
    "test.at[2001, 'status'] = 0\n",
    "test.at[2110, 'status'] = 0"
   ]
  },
  {
   "cell_type": "code",
   "execution_count": 215,
   "metadata": {},
   "outputs": [],
   "source": [
    "test = test.dropna(subset=['status'])"
   ]
  },
  {
   "cell_type": "code",
   "execution_count": 216,
   "metadata": {},
   "outputs": [
    {
     "data": {
      "text/html": [
       "<div>\n",
       "<style scoped>\n",
       "    .dataframe tbody tr th:only-of-type {\n",
       "        vertical-align: middle;\n",
       "    }\n",
       "\n",
       "    .dataframe tbody tr th {\n",
       "        vertical-align: top;\n",
       "    }\n",
       "\n",
       "    .dataframe thead th {\n",
       "        text-align: right;\n",
       "    }\n",
       "</style>\n",
       "<table border=\"1\" class=\"dataframe\">\n",
       "  <thead>\n",
       "    <tr style=\"text-align: right;\">\n",
       "      <th></th>\n",
       "      <th>created_at</th>\n",
       "      <th>id</th>\n",
       "      <th>text</th>\n",
       "      <th>user_id</th>\n",
       "      <th>user_location</th>\n",
       "      <th>status</th>\n",
       "    </tr>\n",
       "  </thead>\n",
       "  <tbody>\n",
       "    <tr>\n",
       "      <th>2001</th>\n",
       "      <td>Thu Sep 03 22:09:44 +0000 2009</td>\n",
       "      <td>3743242709</td>\n",
       "      <td>RT @MarcScott: What is the difference between ...</td>\n",
       "      <td>NaN</td>\n",
       "      <td>None</td>\n",
       "      <td>0.0</td>\n",
       "    </tr>\n",
       "    <tr>\n",
       "      <th>2042</th>\n",
       "      <td>Sat Sep 05 02:59:19 +0000 2009</td>\n",
       "      <td>3771803805</td>\n",
       "      <td>I think I might be getting swine flu.</td>\n",
       "      <td>NaN</td>\n",
       "      <td>None</td>\n",
       "      <td>1.0</td>\n",
       "    </tr>\n",
       "    <tr>\n",
       "      <th>2110</th>\n",
       "      <td>Sun Oct 11 12:47:35 +0000 2009</td>\n",
       "      <td>4783303710</td>\n",
       "      <td>What is the difference between Bird Flu and Sw...</td>\n",
       "      <td>NaN</td>\n",
       "      <td>None</td>\n",
       "      <td>0.0</td>\n",
       "    </tr>\n",
       "  </tbody>\n",
       "</table>\n",
       "</div>"
      ],
      "text/plain": [
       "                          created_at          id  \\\n",
       "2001  Thu Sep 03 22:09:44 +0000 2009  3743242709   \n",
       "2042  Sat Sep 05 02:59:19 +0000 2009  3771803805   \n",
       "2110  Sun Oct 11 12:47:35 +0000 2009  4783303710   \n",
       "\n",
       "                                                   text  user_id  \\\n",
       "2001  RT @MarcScott: What is the difference between ...      NaN   \n",
       "2042             I think I might be getting swine flu.       NaN   \n",
       "2110  What is the difference between Bird Flu and Sw...      NaN   \n",
       "\n",
       "     user_location  status  \n",
       "2001          None     0.0  \n",
       "2042          None     1.0  \n",
       "2110          None     0.0  "
      ]
     },
     "execution_count": 216,
     "metadata": {},
     "output_type": "execute_result"
    }
   ],
   "source": [
    "test"
   ]
  },
  {
   "cell_type": "code",
   "execution_count": 36,
   "metadata": {},
   "outputs": [],
   "source": [
    "from nltk.corpus import stopwords\n",
    "import numpy as np\n",
    "import string \n",
    "from sklearn.feature_extraction.text import CountVectorizer, TfidfVectorizer\n",
    "from nltk.tokenize import TweetTokenizer\n",
    "from sklearn.model_selection import train_test_split\n",
    "from sklearn.metrics import precision_score, accuracy_score, recall_score, f1_score, confusion_matrix\n",
    "from sklearn.naive_bayes import GaussianNB, BernoulliNB, MultinomialNB\n",
    "from sklearn.metrics import confusion_matrix\n",
    "import matplotlib.pyplot as plt\n",
    "import seaborn as sns\n",
    "import matplotlib.pyplot as plt\n",
    "%matplotlib inline\n",
    "from sklearn.metrics import roc_curve, auc\n",
    "from sklearn.linear_model import LogisticRegression\n",
    "from sklearn.ensemble import RandomForestClassifier, GradientBoostingClassifier, AdaBoostClassifier\n",
    "import xgboost as xgb\n",
    "from sklearn.svm import SVC"
   ]
  },
  {
   "cell_type": "markdown",
   "metadata": {},
   "source": [
    "# Natural Language Processing"
   ]
  },
  {
   "cell_type": "code",
   "execution_count": 38,
   "metadata": {},
   "outputs": [],
   "source": [
    "def tokenize(tweet):\n",
    "    tknzr = TweetTokenizer(strip_handles=True, reduce_len=True, preserve_case=False)\n",
    "    return tknzr.tokenize(tweet)\n",
    "\n",
    "data = df['text']\n",
    "labels = df['status']\n",
    "train_data, test_data, y_train, y_test = train_test_split(data, labels)\n",
    "\n",
    "vectorizer = TfidfVectorizer(stop_words='english', tokenizer=tokenize)\n",
    "\n",
    "x_train = vectorizer.fit_transform(train_data)\n",
    "x_test = vectorizer.transform(test_data)"
   ]
  },
  {
   "cell_type": "code",
   "execution_count": 7,
   "metadata": {},
   "outputs": [
    {
     "data": {
      "text/html": [
       "<div>\n",
       "<style scoped>\n",
       "    .dataframe tbody tr th:only-of-type {\n",
       "        vertical-align: middle;\n",
       "    }\n",
       "\n",
       "    .dataframe tbody tr th {\n",
       "        vertical-align: top;\n",
       "    }\n",
       "\n",
       "    .dataframe thead th {\n",
       "        text-align: right;\n",
       "    }\n",
       "</style>\n",
       "<table border=\"1\" class=\"dataframe\">\n",
       "  <thead>\n",
       "    <tr style=\"text-align: right;\">\n",
       "      <th></th>\n",
       "      <th>!</th>\n",
       "      <th>\"</th>\n",
       "      <th>#</th>\n",
       "      <th>##forewarning</th>\n",
       "      <th>#11</th>\n",
       "      <th>#140tc</th>\n",
       "      <th>#24</th>\n",
       "      <th>#24hourz</th>\n",
       "      <th>#400080</th>\n",
       "      <th>#82</th>\n",
       "      <th>...</th>\n",
       "      <th>‮</th>\n",
       "      <th>›</th>\n",
       "      <th>☮</th>\n",
       "      <th>♥</th>\n",
       "      <th>♫</th>\n",
       "      <th></th>\n",
       "      <th></th>\n",
       "      <th></th>\n",
       "      <th></th>\n",
       "      <th></th>\n",
       "    </tr>\n",
       "  </thead>\n",
       "  <tbody>\n",
       "    <tr>\n",
       "      <th>0</th>\n",
       "      <td>0.000000</td>\n",
       "      <td>0.000000</td>\n",
       "      <td>0.0</td>\n",
       "      <td>0.0</td>\n",
       "      <td>0.0</td>\n",
       "      <td>0.0</td>\n",
       "      <td>0.0</td>\n",
       "      <td>0.0</td>\n",
       "      <td>0.0</td>\n",
       "      <td>0.0</td>\n",
       "      <td>...</td>\n",
       "      <td>0.0</td>\n",
       "      <td>0.0</td>\n",
       "      <td>0.0</td>\n",
       "      <td>0.0</td>\n",
       "      <td>0.0</td>\n",
       "      <td>0.0</td>\n",
       "      <td>0.0</td>\n",
       "      <td>0.0</td>\n",
       "      <td>0.0</td>\n",
       "      <td>0.0</td>\n",
       "    </tr>\n",
       "    <tr>\n",
       "      <th>1</th>\n",
       "      <td>0.146630</td>\n",
       "      <td>0.000000</td>\n",
       "      <td>0.0</td>\n",
       "      <td>0.0</td>\n",
       "      <td>0.0</td>\n",
       "      <td>0.0</td>\n",
       "      <td>0.0</td>\n",
       "      <td>0.0</td>\n",
       "      <td>0.0</td>\n",
       "      <td>0.0</td>\n",
       "      <td>...</td>\n",
       "      <td>0.0</td>\n",
       "      <td>0.0</td>\n",
       "      <td>0.0</td>\n",
       "      <td>0.0</td>\n",
       "      <td>0.0</td>\n",
       "      <td>0.0</td>\n",
       "      <td>0.0</td>\n",
       "      <td>0.0</td>\n",
       "      <td>0.0</td>\n",
       "      <td>0.0</td>\n",
       "    </tr>\n",
       "    <tr>\n",
       "      <th>2</th>\n",
       "      <td>0.000000</td>\n",
       "      <td>0.000000</td>\n",
       "      <td>0.0</td>\n",
       "      <td>0.0</td>\n",
       "      <td>0.0</td>\n",
       "      <td>0.0</td>\n",
       "      <td>0.0</td>\n",
       "      <td>0.0</td>\n",
       "      <td>0.0</td>\n",
       "      <td>0.0</td>\n",
       "      <td>...</td>\n",
       "      <td>0.0</td>\n",
       "      <td>0.0</td>\n",
       "      <td>0.0</td>\n",
       "      <td>0.0</td>\n",
       "      <td>0.0</td>\n",
       "      <td>0.0</td>\n",
       "      <td>0.0</td>\n",
       "      <td>0.0</td>\n",
       "      <td>0.0</td>\n",
       "      <td>0.0</td>\n",
       "    </tr>\n",
       "    <tr>\n",
       "      <th>3</th>\n",
       "      <td>0.101565</td>\n",
       "      <td>0.000000</td>\n",
       "      <td>0.0</td>\n",
       "      <td>0.0</td>\n",
       "      <td>0.0</td>\n",
       "      <td>0.0</td>\n",
       "      <td>0.0</td>\n",
       "      <td>0.0</td>\n",
       "      <td>0.0</td>\n",
       "      <td>0.0</td>\n",
       "      <td>...</td>\n",
       "      <td>0.0</td>\n",
       "      <td>0.0</td>\n",
       "      <td>0.0</td>\n",
       "      <td>0.0</td>\n",
       "      <td>0.0</td>\n",
       "      <td>0.0</td>\n",
       "      <td>0.0</td>\n",
       "      <td>0.0</td>\n",
       "      <td>0.0</td>\n",
       "      <td>0.0</td>\n",
       "    </tr>\n",
       "    <tr>\n",
       "      <th>4</th>\n",
       "      <td>0.137505</td>\n",
       "      <td>0.496379</td>\n",
       "      <td>0.0</td>\n",
       "      <td>0.0</td>\n",
       "      <td>0.0</td>\n",
       "      <td>0.0</td>\n",
       "      <td>0.0</td>\n",
       "      <td>0.0</td>\n",
       "      <td>0.0</td>\n",
       "      <td>0.0</td>\n",
       "      <td>...</td>\n",
       "      <td>0.0</td>\n",
       "      <td>0.0</td>\n",
       "      <td>0.0</td>\n",
       "      <td>0.0</td>\n",
       "      <td>0.0</td>\n",
       "      <td>0.0</td>\n",
       "      <td>0.0</td>\n",
       "      <td>0.0</td>\n",
       "      <td>0.0</td>\n",
       "      <td>0.0</td>\n",
       "    </tr>\n",
       "  </tbody>\n",
       "</table>\n",
       "<p>5 rows × 7484 columns</p>\n",
       "</div>"
      ],
      "text/plain": [
       "          !         \"    #  ##forewarning  #11  #140tc  #24  #24hourz  \\\n",
       "0  0.000000  0.000000  0.0            0.0  0.0     0.0  0.0       0.0   \n",
       "1  0.146630  0.000000  0.0            0.0  0.0     0.0  0.0       0.0   \n",
       "2  0.000000  0.000000  0.0            0.0  0.0     0.0  0.0       0.0   \n",
       "3  0.101565  0.000000  0.0            0.0  0.0     0.0  0.0       0.0   \n",
       "4  0.137505  0.496379  0.0            0.0  0.0     0.0  0.0       0.0   \n",
       "\n",
       "   #400080  #82 ...     ‮    ›    ☮    ♥    ♫                      \n",
       "0      0.0  0.0 ...   0.0  0.0  0.0  0.0  0.0  0.0  0.0  0.0  0.0  0.0  \n",
       "1      0.0  0.0 ...   0.0  0.0  0.0  0.0  0.0  0.0  0.0  0.0  0.0  0.0  \n",
       "2      0.0  0.0 ...   0.0  0.0  0.0  0.0  0.0  0.0  0.0  0.0  0.0  0.0  \n",
       "3      0.0  0.0 ...   0.0  0.0  0.0  0.0  0.0  0.0  0.0  0.0  0.0  0.0  \n",
       "4      0.0  0.0 ...   0.0  0.0  0.0  0.0  0.0  0.0  0.0  0.0  0.0  0.0  \n",
       "\n",
       "[5 rows x 7484 columns]"
      ]
     },
     "execution_count": 7,
     "metadata": {},
     "output_type": "execute_result"
    }
   ],
   "source": [
    "dftrain = pd.DataFrame(x_train.toarray())\n",
    "dftrain.columns = bow.get_feature_names()\n",
    "dftrain.head()"
   ]
  },
  {
   "cell_type": "markdown",
   "metadata": {},
   "source": [
    "# Exploratory Data Analysis"
   ]
  },
  {
   "cell_type": "markdown",
   "metadata": {},
   "source": [
    "## Descriptive Visualizations"
   ]
  },
  {
   "cell_type": "code",
   "execution_count": 8,
   "metadata": {},
   "outputs": [
    {
     "name": "stderr",
     "output_type": "stream",
     "text": [
      "No handles with labels found to put in legend.\n"
     ]
    },
    {
     "data": {
      "text/plain": [
       "<matplotlib.legend.Legend at 0x1a15eaa080>"
      ]
     },
     "execution_count": 8,
     "metadata": {},
     "output_type": "execute_result"
    },
    {
     "data": {
      "image/png": "[encoded data removed]",
      "text/plain": [
       "<Figure size 720x720 with 1 Axes>"
      ]
     },
     "metadata": {},
     "output_type": "display_data"
    }
   ],
   "source": [
    "#distribution of annotated dataset (0/1)\n",
    "fig, ax = plt.subplots(figsize=(10, 10))\n",
    "ax = sns.countplot(x=\"status\", data=df, palette='seismic')\n",
    "ax.set_title('Status Distribution')\n",
    "ax.set_ylabel('Count')\n",
    "ax.set_xlabel('')\n",
    "plt.legend(bbox_to_anchor=(1.05, 1), loc=2, borderaxespad=0.)"
   ]
  },
  {
   "cell_type": "markdown",
   "metadata": {},
   "source": [
    "## Linear Regression"
   ]
  },
  {
   "cell_type": "code",
   "execution_count": 9,
   "metadata": {},
   "outputs": [],
   "source": [
    "#This will assess correlation between outbreak predicted by twitter data "
   ]
  },
  {
   "cell_type": "markdown",
   "metadata": {},
   "source": [
    "# Dimensionality Reduction: Principle Component Analysis (PCA)"
   ]
  },
  {
   "cell_type": "code",
   "execution_count": null,
   "metadata": {},
   "outputs": [],
   "source": []
  },
  {
   "cell_type": "markdown",
   "metadata": {},
   "source": [
    "# Machine Learning Classification Algorithms"
   ]
  },
  {
   "cell_type": "markdown",
   "metadata": {},
   "source": [
    "## Naive Bayes"
   ]
  },
  {
   "cell_type": "code",
   "execution_count": 89,
   "metadata": {},
   "outputs": [],
   "source": [
    "nb = MultinomialNB()\n",
    "nb.fit(x_train, y_train)\n",
    "preds = nb.predict(x_test)\n",
    "y_score = nb.predict_proba(x_test)"
   ]
  },
  {
   "cell_type": "markdown",
   "metadata": {},
   "source": [
    "### Metrics"
   ]
  },
  {
   "cell_type": "code",
   "execution_count": 91,
   "metadata": {},
   "outputs": [
    {
     "name": "stdout",
     "output_type": "stream",
     "text": [
      "Accuracy Score for model: 71.17%\n",
      "Precision Score for model: 68.28%\n",
      "Recall Score for model: 88.12%\n",
      "F1 Score for model: 76.94%\n"
     ]
    },
    {
     "data": {
      "image/png": "[encoded data removed]",
      "text/plain": [
       "<Figure size 432x288 with 2 Axes>"
      ]
     },
     "metadata": {},
     "output_type": "display_data"
    },
    {
     "name": "stdout",
     "output_type": "stream",
     "text": [
      "AUC: 0.8042229342389856\n"
     ]
    },
    {
     "data": {
      "image/png": "[encoded data removed]",
      "text/plain": [
       "<Figure size 720x576 with 1 Axes>"
      ]
     },
     "metadata": {},
     "output_type": "display_data"
    }
   ],
   "source": [
    "def print_metrics(model, x_test, y_test):\n",
    "    preds = model.predict(x_test)\n",
    "    accuracy = accuracy_score(y_test, preds)\n",
    "    precision = precision_score(y_test, preds)\n",
    "    recall = recall_score(y_test, preds)\n",
    "    f1 = f1_score(y_test, preds)\n",
    "    print(\"Accuracy Score for model: {:.4}%\".format(accuracy * 100))\n",
    "    print(\"Precision Score for model: {:.4}%\".format(precision * 100))\n",
    "    print(\"Recall Score for model: {:.4}%\".format(recall * 100))\n",
    "    print(\"F1 Score for model: {:.4}%\".format(f1 * 100))\n",
    "    return accuracy, precision, recall, f1\n",
    "    \n",
    "\n",
    "def cm_plot(labels, predictions, normalize=False, cmap='Spectral'):\n",
    "    cm = confusion_matrix(labels, predictions)\n",
    "    if normalize:\n",
    "        cm = cm.astype('float') / cm.sum(axis=1)[:, np.newaxis]\n",
    "    df_cm = pd.DataFrame(cm, ['POS', 'NEG'], ['POS', 'NEG'])\n",
    "    sns.heatmap(df_cm, annot=True, annot_kws={'size':16}, fmt='g', cmap=cmap)\n",
    "    plt.ylabel('True label')\n",
    "    plt.xlabel('Predicted label')\n",
    "#     plt.colorbar()\n",
    "    plt.show()\n",
    "\n",
    "def plot_roc_curve(labels, predictions, y_score):\n",
    "    fpr, tpr, thresholds = roc_curve(labels, y_score)\n",
    "    print('AUC: {}'.format(auc(fpr, tpr)))\n",
    "    #Seaborns Beautiful Styling\n",
    "    sns.set_style(\"darkgrid\", {\"axes.facecolor\": \".9\"})\n",
    "    plt.figure(figsize=(10,8))\n",
    "    lw = 2\n",
    "    plt.plot(fpr, tpr, color='darkorange',\n",
    "             lw=lw, label='ROC curve')\n",
    "    plt.plot([0, 1], [0, 1], color='navy', lw=lw, linestyle='--')\n",
    "    plt.xlim([0.0, 1.0])\n",
    "    plt.ylim([0.0, 1.05])\n",
    "    plt.yticks([i/20.0 for i in range(21)])\n",
    "    plt.xticks([i/20.0 for i in range(21)])\n",
    "    plt.xlabel('False Positive Rate')\n",
    "    plt.ylabel('True Positive Rate')\n",
    "    plt.title('Receiver operating characteristic (ROC) Curve')\n",
    "    plt.legend(loc=\"lower right\")\n",
    "    plt.show()\n",
    "\n",
    "nb_accuracy, nb_precision, nb_recall, nb_f1 = print_metrics(nb,x_test,y_test)\n",
    "cm_plot(y_test,preds, normalize=True, cmap='Spectral')\n",
    "plot_roc_curve(y_test,preds, y_score[:,1])"
   ]
  },
  {
   "cell_type": "markdown",
   "metadata": {},
   "source": [
    "## Logistic Regression"
   ]
  },
  {
   "cell_type": "code",
   "execution_count": 93,
   "metadata": {},
   "outputs": [],
   "source": [
    "log = LogisticRegression()\n",
    "log = logreg.fit(x_train, y_train)\n",
    "preds = logreg.predict(x_test)\n",
    "y_score = logreg.decision_function(x_test)"
   ]
  },
  {
   "cell_type": "markdown",
   "metadata": {},
   "source": [
    "### Metrics"
   ]
  },
  {
   "cell_type": "code",
   "execution_count": 94,
   "metadata": {},
   "outputs": [
    {
     "name": "stdout",
     "output_type": "stream",
     "text": [
      "Accuracy Score for model: 73.36%\n",
      "Precision Score for model: 73.02%\n",
      "Recall Score for model: 81.22%\n",
      "F1 Score for model: 76.9%\n"
     ]
    },
    {
     "data": {
      "image/png": "[encoded data removed]",
      "text/plain": [
       "<Figure size 432x288 with 2 Axes>"
      ]
     },
     "metadata": {},
     "output_type": "display_data"
    },
    {
     "name": "stdout",
     "output_type": "stream",
     "text": [
      "AUC: 0.8086541023940703\n"
     ]
    },
    {
     "data": {
      "image/png": "[encoded data removed]",
      "text/plain": [
       "<Figure size 720x576 with 1 Axes>"
      ]
     },
     "metadata": {},
     "output_type": "display_data"
    }
   ],
   "source": [
    "log_accuracy, log_precision, log_recall, log_f1 = print_metrics(log,x_test,y_test)\n",
    "cm_plot(y_test,preds,normalize=True)\n",
    "plot_roc_curve(y_test,preds,y_score)"
   ]
  },
  {
   "cell_type": "markdown",
   "metadata": {},
   "source": [
    "### Hyperparameter Tuning"
   ]
  },
  {
   "cell_type": "markdown",
   "metadata": {},
   "source": [
    "**L1 vs. L2 Regularization**"
   ]
  },
  {
   "cell_type": "code",
   "execution_count": 14,
   "metadata": {},
   "outputs": [
    {
     "name": "stdout",
     "output_type": "stream",
     "text": [
      "AUC for l1: 0.792595009477642\n",
      "AUC for l2: 0.8174295391690749\n"
     ]
    },
    {
     "data": {
      "image/png": "[encoded data removed]",
      "text/plain": [
       "<Figure size 720x576 with 1 Axes>"
      ]
     },
     "metadata": {},
     "output_type": "display_data"
    }
   ],
   "source": [
    "#compare L1 & L2 regularization\n",
    "penalties = ['l1', 'l2']\n",
    "colors = ['r', 'orange']\n",
    "\n",
    "plt.figure(figsize=(10,8))\n",
    "\n",
    "for n, pen in enumerate(penalties):\n",
    "    #Fit a model\n",
    "    logreg = LogisticRegression(fit_intercept = False, penalty=pen) #Starter code\n",
    "    model_log = logreg.fit(x_train, y_train)\n",
    "    #Predict\n",
    "    y_hat_test = logreg.predict(x_test)\n",
    "    y_score = logreg.fit(x_train, y_train).decision_function(x_test)\n",
    "    fpr, tpr, thresholds = roc_curve(y_test, y_score)\n",
    "    print('AUC for {}: {}'.format(str(pen), auc(fpr, tpr)))\n",
    "    lw = 2\n",
    "    plt.plot(fpr, tpr, color=colors[n],\n",
    "             lw=lw, label='ROC curve {}'.format(pen))\n",
    "plt.plot([0, 1], [0, 1], color='navy', lw=lw, linestyle='--')\n",
    "plt.xlim([0.0, 1.0])\n",
    "plt.ylim([0.0, 1.05])\n",
    "\n",
    "plt.yticks([i/20.0 for i in range(21)])\n",
    "plt.xticks([i/20.0 for i in range(21)])\n",
    "plt.xlabel('False Positive Rate')\n",
    "plt.ylabel('True Positive Rate')\n",
    "plt.title('Receiver operating characteristic (ROC) Curve')\n",
    "plt.legend(loc=\"lower right\")\n",
    "plt.show()"
   ]
  },
  {
   "cell_type": "markdown",
   "metadata": {},
   "source": [
    "**Balanced Class Weights**"
   ]
  },
  {
   "cell_type": "code",
   "execution_count": 26,
   "metadata": {},
   "outputs": [
    {
     "name": "stdout",
     "output_type": "stream",
     "text": [
      "AUC for balanced: 0.8156520928498181\n",
      "AUC for None: 0.8174295391690749\n"
     ]
    },
    {
     "data": {
      "image/png": "[encoded data removed]",
      "text/plain": [
       "<Figure size 720x576 with 1 Axes>"
      ]
     },
     "metadata": {},
     "output_type": "display_data"
    }
   ],
   "source": [
    "#compare L1 & L2 regularization\n",
    "wgts = ['balanced', None]\n",
    "colors = ['r', 'orange']\n",
    "\n",
    "plt.figure(figsize=(10,8))\n",
    "\n",
    "for n, wgt in enumerate(wgts):\n",
    "    #Fit a model\n",
    "    logreg = LogisticRegression(fit_intercept = False, class_weight=wgt) #Starter code\n",
    "    model_log = logreg.fit(x_train, y_train)\n",
    "    #Predict\n",
    "    y_hat_test = logreg.predict(x_test)\n",
    "    y_score = logreg.fit(x_train, y_train).decision_function(x_test)\n",
    "    fpr, tpr, thresholds = roc_curve(y_test, y_score)\n",
    "    print('AUC for {}: {}'.format(str(wgt), auc(fpr, tpr)))\n",
    "    lw = 2\n",
    "    plt.plot(fpr, tpr, color=colors[n],\n",
    "             lw=lw, label='ROC curve {}'.format(pen))\n",
    "plt.plot([0, 1], [0, 1], color='navy', lw=lw, linestyle='--')\n",
    "plt.xlim([0.0, 1.0])\n",
    "plt.ylim([0.0, 1.05])\n",
    "\n",
    "plt.yticks([i/20.0 for i in range(21)])\n",
    "plt.xticks([i/20.0 for i in range(21)])\n",
    "plt.xlabel('False Positive Rate')\n",
    "plt.ylabel('True Positive Rate')\n",
    "plt.title('Receiver operating characteristic (ROC) Curve')\n",
    "plt.legend(loc=\"lower right\")\n",
    "plt.show()"
   ]
  },
  {
   "cell_type": "markdown",
   "metadata": {},
   "source": [
    "## Random Forest"
   ]
  },
  {
   "cell_type": "code",
   "execution_count": 96,
   "metadata": {},
   "outputs": [],
   "source": [
    "forest = RandomForestClassifier(n_estimators=100, max_depth= 5)\n",
    "forest.fit(x_train, y_train)\n",
    "preds = forest.predict(x_test)\n",
    "y_score = forest.predict_proba(x_test)"
   ]
  },
  {
   "cell_type": "markdown",
   "metadata": {},
   "source": [
    "### Metrics"
   ]
  },
  {
   "cell_type": "code",
   "execution_count": 97,
   "metadata": {},
   "outputs": [
    {
     "name": "stdout",
     "output_type": "stream",
     "text": [
      "Accuracy Score for model: 62.23%\n",
      "Precision Score for model: 59.36%\n",
      "Recall Score for model: 97.75%\n",
      "F1 Score for model: 73.86%\n"
     ]
    },
    {
     "data": {
      "image/png": "[encoded data removed]",
      "text/plain": [
       "<Figure size 432x288 with 2 Axes>"
      ]
     },
     "metadata": {},
     "output_type": "display_data"
    },
    {
     "name": "stderr",
     "output_type": "stream",
     "text": [
      "/anaconda3/lib/python3.6/site-packages/sklearn/metrics/ranking.py:571: UndefinedMetricWarning: No positive samples in y_true, true positive value should be meaningless\n",
      "  UndefinedMetricWarning)\n"
     ]
    },
    {
     "data": {
      "text/plain": [
       "(array([0.        , 0.89921122, 1.        ]),\n",
       " array([nan, nan, nan]),\n",
       " array([2., 1., 0.]))"
      ]
     },
     "execution_count": 97,
     "metadata": {},
     "output_type": "execute_result"
    }
   ],
   "source": [
    "print_metrics(forest,x_test,y_test)\n",
    "cm_plot(y_test,preds,normalize=True)\n",
    "# roc_curve(y_test,preds,y_score[:,1])"
   ]
  },
  {
   "cell_type": "markdown",
   "metadata": {},
   "source": [
    "### Hyperparameter Tuning"
   ]
  },
  {
   "cell_type": "code",
   "execution_count": 18,
   "metadata": {},
   "outputs": [],
   "source": [
    "#adjust n_estimators"
   ]
  },
  {
   "cell_type": "markdown",
   "metadata": {},
   "source": [
    "## Gradient Boosting"
   ]
  },
  {
   "cell_type": "code",
   "execution_count": 99,
   "metadata": {},
   "outputs": [],
   "source": [
    "#adjust learning rate\n",
    "gradboost = GradientBoostingClassifier(random_state = 123, max_depth = 5, learning_rate = 0.01)\n",
    "gradboost.fit(x_train, y_train)\n",
    "preds = gradboost.predict(x_test)"
   ]
  },
  {
   "cell_type": "markdown",
   "metadata": {},
   "source": [
    "### Metrics"
   ]
  },
  {
   "cell_type": "code",
   "execution_count": 100,
   "metadata": {},
   "outputs": [
    {
     "name": "stdout",
     "output_type": "stream",
     "text": [
      "Accuracy Score for model: 70.2%\n",
      "Precision Score for model: 69.1%\n",
      "Recall Score for model: 82.18%\n",
      "F1 Score for model: 75.07%\n"
     ]
    },
    {
     "data": {
      "image/png": "[encoded data removed]",
      "text/plain": [
       "<Figure size 432x288 with 2 Axes>"
      ]
     },
     "metadata": {},
     "output_type": "display_data"
    }
   ],
   "source": [
    "gb_accuracy, gb_precision, gb_recall, gb_f1 = print_metrics(gradboost,x_test,y_test)\n",
    "cm_plot(y_test,preds,normalize=True)\n",
    "# roc_curve(y_test,preds,y_score[:,1])"
   ]
  },
  {
   "cell_type": "markdown",
   "metadata": {},
   "source": [
    "## AdaBoost"
   ]
  },
  {
   "cell_type": "code",
   "execution_count": 101,
   "metadata": {},
   "outputs": [],
   "source": [
    "adaboost = AdaBoostClassifier(n_estimators=100)\n",
    "adaboost.fit(x_train, y_train)\n",
    "preds = adaboost.predict(x_test)"
   ]
  },
  {
   "cell_type": "markdown",
   "metadata": {},
   "source": [
    "### Metrics"
   ]
  },
  {
   "cell_type": "code",
   "execution_count": 102,
   "metadata": {},
   "outputs": [
    {
     "name": "stdout",
     "output_type": "stream",
     "text": [
      "Accuracy Score for model: 71.17%\n",
      "Precision Score for model: 71.94%\n",
      "Recall Score for model: 77.37%\n",
      "F1 Score for model: 74.56%\n"
     ]
    },
    {
     "data": {
      "image/png": "[encoded data removed]",
      "text/plain": [
       "<Figure size 432x288 with 2 Axes>"
      ]
     },
     "metadata": {},
     "output_type": "display_data"
    }
   ],
   "source": [
    "ada_accuracy, ada_precision, ada_recall, ada_f1 = print_metrics(adaboost,x_test,y_test)\n",
    "cm_plot(y_test,preds,normalize=True)\n",
    "# roc_curve(y_test,preds,y_score[:,1])"
   ]
  },
  {
   "cell_type": "markdown",
   "metadata": {},
   "source": [
    "## Support Vector Machine"
   ]
  },
  {
   "cell_type": "code",
   "execution_count": 103,
   "metadata": {},
   "outputs": [],
   "source": [
    "svm = SVC(kernel='linear')\n",
    "svm = svm.fit(x_train, y_train) \n",
    "preds = svm.predict(x_test)"
   ]
  },
  {
   "cell_type": "code",
   "execution_count": 24,
   "metadata": {},
   "outputs": [],
   "source": [
    "#visualization\n",
    "#https://github.com/learn-co-students/ds-support-vector-machines-lab-nyc-career-ds-062518/tree/solution"
   ]
  },
  {
   "cell_type": "markdown",
   "metadata": {},
   "source": [
    "### Metrics"
   ]
  },
  {
   "cell_type": "code",
   "execution_count": 104,
   "metadata": {},
   "outputs": [
    {
     "name": "stdout",
     "output_type": "stream",
     "text": [
      "Accuracy Score for model: 72.39%\n",
      "Precision Score for model: 72.58%\n",
      "Recall Score for model: 79.45%\n",
      "F1 Score for model: 75.86%\n"
     ]
    },
    {
     "data": {
      "image/png": "[encoded data removed]",
      "text/plain": [
       "<Figure size 432x288 with 2 Axes>"
      ]
     },
     "metadata": {},
     "output_type": "display_data"
    }
   ],
   "source": [
    "svm_accuracy, svm_precision, svm_recall, svm_f1 = print_metrics(svm,x_test,y_test)\n",
    "cm_plot(y_test,preds,normalize=True)\n",
    "# roc_curve(y_test,preds, y_score)"
   ]
  },
  {
   "cell_type": "markdown",
   "metadata": {},
   "source": [
    "# Feed-Forward Neural Net: Multi-Layer Perceptron "
   ]
  },
  {
   "cell_type": "code",
   "execution_count": 128,
   "metadata": {},
   "outputs": [],
   "source": [
    "import keras\n",
    "from keras.models import Sequential, Model\n",
    "from keras.layers import Dense, Conv2D, MaxPooling2D, Flatten, Dropout\n",
    "from keras.callbacks import ModelCheckpoint, LearningRateScheduler, TensorBoard, EarlyStopping\n",
    "from keras import optimizers\n",
    "from keras.models import model_from_json\n",
    "from sklearn.externals import joblib\n",
    "from keras import regularizers"
   ]
  },
  {
   "cell_type": "markdown",
   "metadata": {},
   "source": [
    "### Hyperparameters"
   ]
  },
  {
   "cell_type": "code",
   "execution_count": 137,
   "metadata": {},
   "outputs": [],
   "source": [
    "epochs=25\n",
    "optimizer = optimizers.Adam(lr=0.00003, decay=0.0001)\n",
    "# optimizer = optimizers.SGD(lr=0.003, decay=0.0001, momentum=0.9)\n",
    "batch_size=32\n",
    "loss='binary_crossentropy'\n",
    "activation='relu'\n",
    "out_activation='sigmoid'"
   ]
  },
  {
   "cell_type": "code",
   "execution_count": 138,
   "metadata": {},
   "outputs": [],
   "source": [
    "tbcallback = keras.callbacks.TensorBoard(log_dir='./logs', histogram_freq=0, batch_size=batch_size, \n",
    "                                         write_graph=True, write_images=True)"
   ]
  },
  {
   "cell_type": "markdown",
   "metadata": {},
   "source": [
    "### Model - Adam"
   ]
  },
  {
   "cell_type": "code",
   "execution_count": 139,
   "metadata": {},
   "outputs": [
    {
     "name": "stdout",
     "output_type": "stream",
     "text": [
      "_________________________________________________________________\n",
      "Layer (type)                 Output Shape              Param #   \n",
      "=================================================================\n",
      "dense_27 (Dense)             (None, 150)               1111950   \n",
      "_________________________________________________________________\n",
      "dropout_16 (Dropout)         (None, 150)               0         \n",
      "_________________________________________________________________\n",
      "dense_28 (Dense)             (None, 75)                11325     \n",
      "_________________________________________________________________\n",
      "dropout_17 (Dropout)         (None, 75)                0         \n",
      "_________________________________________________________________\n",
      "dense_29 (Dense)             (None, 1)                 76        \n",
      "=================================================================\n",
      "Total params: 1,123,351\n",
      "Trainable params: 1,123,351\n",
      "Non-trainable params: 0\n",
      "_________________________________________________________________\n"
     ]
    }
   ],
   "source": [
    "model = Sequential()\n",
    "model.add(Dense(150, input_dim=len(vectorizer.get_feature_names()), kernel_regularizer=regularizers.l1(0.005), activation=activation))\n",
    "model.add(Dropout(0.3))\n",
    "model.add(Dense(75, kernel_regularizer=regularizers.l1(0.005), activation=activation))\n",
    "model.add(Dropout(0.3))\n",
    "model.add(Dense(1, activation=out_activation))\n",
    "model.load_weights(\"mlp_adam_3_50.h5\")\n",
    "model.compile(loss=loss, optimizer=optimizer, metrics=['accuracy']) \n",
    "model.summary()"
   ]
  },
  {
   "cell_type": "code",
   "execution_count": 140,
   "metadata": {},
   "outputs": [
    {
     "name": "stdout",
     "output_type": "stream",
     "text": [
      "Train on 3422 samples, validate on 1141 samples\n",
      "Epoch 1/25\n",
      "3422/3422 [==============================] - 21s 6ms/step - loss: 85.8280 - acc: 0.9752 - val_loss: 78.0280 - val_acc: 0.7318\n",
      "Epoch 2/25\n",
      "3422/3422 [==============================] - 20s 6ms/step - loss: 70.0496 - acc: 0.9725 - val_loss: 63.2968 - val_acc: 0.7327\n",
      "Epoch 3/25\n",
      "3422/3422 [==============================] - 21s 6ms/step - loss: 56.4218 - acc: 0.9702 - val_loss: 50.6723 - val_acc: 0.7309\n",
      "Epoch 4/25\n",
      "3422/3422 [==============================] - 23s 7ms/step - loss: 44.8490 - acc: 0.9684 - val_loss: 40.0568 - val_acc: 0.7344\n",
      "Epoch 5/25\n",
      "3422/3422 [==============================] - 23s 7ms/step - loss: 35.2448 - acc: 0.9652 - val_loss: 31.3523 - val_acc: 0.7379\n",
      "Epoch 6/25\n",
      "3422/3422 [==============================] - 20s 6ms/step - loss: 27.4645 - acc: 0.9544 - val_loss: 24.3599 - val_acc: 0.7379\n",
      "Epoch 7/25\n",
      "3422/3422 [==============================] - 23s 7ms/step - loss: 21.2540 - acc: 0.9307 - val_loss: 18.7789 - val_acc: 0.7397\n",
      "Epoch 8/25\n",
      "3422/3422 [==============================] - 21s 6ms/step - loss: 16.3264 - acc: 0.9229 - val_loss: 14.3875 - val_acc: 0.7406\n",
      "Epoch 9/25\n",
      "3422/3422 [==============================] - 20s 6ms/step - loss: 12.5192 - acc: 0.8805 - val_loss: 11.0567 - val_acc: 0.7362\n",
      "Epoch 10/25\n",
      "3422/3422 [==============================] - 23s 7ms/step - loss: 9.7004 - acc: 0.8422 - val_loss: 8.6302 - val_acc: 0.7353\n",
      "Epoch 11/25\n",
      "3422/3422 [==============================] - 22s 7ms/step - loss: 7.6669 - acc: 0.8027 - val_loss: 6.9074 - val_acc: 0.7371\n",
      "Epoch 12/25\n",
      "3422/3422 [==============================] - 22s 6ms/step - loss: 6.2658 - acc: 0.7718 - val_loss: 5.7758 - val_acc: 0.7230\n",
      "Epoch 13/25\n",
      "3422/3422 [==============================] - 26s 7ms/step - loss: 5.4024 - acc: 0.7326 - val_loss: 5.1119 - val_acc: 0.7195\n",
      "Epoch 14/25\n",
      "3422/3422 [==============================] - 24s 7ms/step - loss: 4.9066 - acc: 0.7180 - val_loss: 4.7450 - val_acc: 0.7204\n",
      "Epoch 15/25\n",
      "3422/3422 [==============================] - 22s 6ms/step - loss: 4.6277 - acc: 0.6999 - val_loss: 4.5147 - val_acc: 0.7178\n",
      "Epoch 16/25\n",
      "3422/3422 [==============================] - 26s 7ms/step - loss: 4.4357 - acc: 0.6864 - val_loss: 4.3427 - val_acc: 0.7064\n",
      "Epoch 17/25\n",
      "3422/3422 [==============================] - 23s 7ms/step - loss: 4.2744 - acc: 0.6856 - val_loss: 4.1995 - val_acc: 0.7134\n",
      "Epoch 18/25\n",
      "3422/3422 [==============================] - 22s 6ms/step - loss: 4.1463 - acc: 0.6753 - val_loss: 4.0735 - val_acc: 0.7125\n",
      "Epoch 19/25\n",
      "3422/3422 [==============================] - 22s 7ms/step - loss: 4.0223 - acc: 0.6797 - val_loss: 3.9580 - val_acc: 0.7099\n",
      "Epoch 20/25\n",
      "3422/3422 [==============================] - 24s 7ms/step - loss: 3.9138 - acc: 0.6651 - val_loss: 3.8504 - val_acc: 0.7082\n",
      "Epoch 21/25\n",
      "3422/3422 [==============================] - 22s 6ms/step - loss: 3.8074 - acc: 0.6672 - val_loss: 3.7488 - val_acc: 0.6968\n",
      "Epoch 22/25\n",
      "3422/3422 [==============================] - 24s 7ms/step - loss: 3.7071 - acc: 0.6672 - val_loss: 3.6511 - val_acc: 0.7011\n",
      "Epoch 23/25\n",
      "3422/3422 [==============================] - 21s 6ms/step - loss: 3.6129 - acc: 0.6648 - val_loss: 3.5575 - val_acc: 0.6994\n",
      "Epoch 24/25\n",
      "3422/3422 [==============================] - 23s 7ms/step - loss: 3.5187 - acc: 0.6645 - val_loss: 3.4675 - val_acc: 0.6994\n",
      "Epoch 25/25\n",
      "3422/3422 [==============================] - 22s 7ms/step - loss: 3.4344 - acc: 0.6444 - val_loss: 3.3803 - val_acc: 0.6906\n"
     ]
    }
   ],
   "source": [
    "#clear logs first\n",
    "history = model.fit(x_train, y_train, epochs=epochs, batch_size=batch_size, \n",
    "                    verbose=1, validation_data=[x_test, y_test], callbacks=[tbcallback])"
   ]
  },
  {
   "cell_type": "markdown",
   "metadata": {},
   "source": [
    "### Metrics"
   ]
  },
  {
   "cell_type": "code",
   "execution_count": 134,
   "metadata": {},
   "outputs": [
    {
     "name": "stdout",
     "output_type": "stream",
     "text": [
      "3422/3422 [==============================] - 7s 2ms/step\n",
      "1141/1141 [==============================] - 2s 2ms/step\n",
      "[0.7295383785566623, 0.9789596727060199]\n",
      "[1.1051025944357897, 0.7221735324073946]\n"
     ]
    },
    {
     "data": {
      "image/png": "[encoded data removed]",
      "text/plain": [
       "<Figure size 432x288 with 1 Axes>"
      ]
     },
     "metadata": {},
     "output_type": "display_data"
    },
    {
     "data": {
      "image/png": "[encoded data removed]",
      "text/plain": [
       "<Figure size 432x288 with 1 Axes>"
      ]
     },
     "metadata": {},
     "output_type": "display_data"
    }
   ],
   "source": [
    "results_train = model.evaluate(x_train, y_train)\n",
    "results_test = model.evaluate(x_test, y_test)\n",
    "mlp_accuracy = results_test[1]\n",
    "print(results_train)\n",
    "print(results_test)\n",
    "val_dict = history.history\n",
    "\n",
    "loss_values = val_dict['loss']\n",
    "val_loss_values = val_dict['val_loss']\n",
    "epochs = range(1, len(loss_values) + 1)\n",
    "plt.plot(epochs, loss_values, 'b', label='Training loss')\n",
    "plt.plot(epochs, val_loss_values, 'b.', label='Validation loss')\n",
    "plt.title('Training & validation loss')\n",
    "plt.xlabel('Epochs')\n",
    "plt.ylabel('Loss')\n",
    "plt.legend()\n",
    "plt.show()\n",
    "\n",
    "acc_values = val_dict['acc'] \n",
    "val_acc_values = val_dict['val_acc']\n",
    "plt.plot(epochs, acc_values, 'r', label='Training acc')\n",
    "plt.plot(epochs, val_acc_values, 'r.', label='Validation acc')\n",
    "plt.title('Training & validation accuracy')\n",
    "plt.xlabel('Epochs')\n",
    "plt.ylabel('Loss')\n",
    "plt.legend()\n",
    "plt.show()"
   ]
  },
  {
   "cell_type": "code",
   "execution_count": 123,
   "metadata": {},
   "outputs": [
    {
     "name": "stdout",
     "output_type": "stream",
     "text": [
      "Saved model to disk\n"
     ]
    }
   ],
   "source": [
    "# serialize model to JSON\n",
    "model_json = model.to_json()\n",
    "with open(\"mlp_adam_3_50.json\", \"w\") as json_file:\n",
    "    json_file.write(model_json)\n",
    "# serialize weights to HDF5\n",
    "model.save_weights(\"mlp_adam_3_50.h5\")\n",
    "print(\"Saved model to disk\")"
   ]
  },
  {
   "cell_type": "markdown",
   "metadata": {},
   "source": [
    "### Model - SGD"
   ]
  },
  {
   "cell_type": "code",
   "execution_count": null,
   "metadata": {},
   "outputs": [],
   "source": [
    "model = Sequential()\n",
    "model.add(Dense(150, input_dim=len(vectorizer.get_feature_names()), activation=activation))\n",
    "model.add(Dropout(0.3))\n",
    "# model.add(Dense(150, activation=activation))\n",
    "# model.add(Dropout(0.3))\n",
    "model.add(Dense(1, activation=out_activation))\n",
    "model.compile(loss=loss, optimizer=optimizer, metrics=['accuracy']) \n",
    "model.summary()"
   ]
  },
  {
   "cell_type": "code",
   "execution_count": null,
   "metadata": {},
   "outputs": [],
   "source": [
    "#clear logs first\n",
    "history = model.fit(x_train, y_train, epochs=epochs, batch_size=batch_size, \n",
    "                    verbose=1, validation_data=[x_test, y_test], callbacks=[tbcallback])"
   ]
  },
  {
   "cell_type": "markdown",
   "metadata": {},
   "source": [
    "### Metrics"
   ]
  },
  {
   "cell_type": "code",
   "execution_count": null,
   "metadata": {},
   "outputs": [],
   "source": [
    "results_train = model.evaluate(x_train, y_train)\n",
    "results_test = model.evaluate(x_test, y_test)\n",
    "mlp_accuracy = results_test[1]\n",
    "print(results_train)\n",
    "print(results_test)\n",
    "\n",
    "plot_loss('mlp_sgd_loss.pkl')\n",
    "plot_accuracy('mlp_sgd_loss.pkl')"
   ]
  },
  {
   "cell_type": "markdown",
   "metadata": {},
   "source": [
    "# Convolutional Neural Net"
   ]
  },
  {
   "cell_type": "code",
   "execution_count": null,
   "metadata": {},
   "outputs": [],
   "source": []
  },
  {
   "cell_type": "markdown",
   "metadata": {},
   "source": [
    "# Classifier Performance Comparison"
   ]
  },
  {
   "cell_type": "code",
   "execution_count": 227,
   "metadata": {},
   "outputs": [],
   "source": [
    "#dataframe with all metrics\n",
    "data = {'Algorithm': ['Naive Bayes', 'Logistic Regression', 'Random Forest', 'Gradient Boosting',\n",
    "                 'AdaBoost', 'Support Vector Machines', 'Multilayer Perceptron'], \n",
    "        'Accuracy': [nb_accuracy, log_accuracy, forest_accuracy, gb_accuracy, ada_accuracy, svm_accuracy,\n",
    "                    mlp_accuracy]}\n",
    "metrics_df = pd.DataFrame.from_dict(data)\n",
    "metrics_df"
   ]
  },
  {
   "cell_type": "code",
   "execution_count": null,
   "metadata": {},
   "outputs": [],
   "source": [
    "metrics_df.to_csv('metrics_df.csv')"
   ]
  },
  {
   "cell_type": "code",
   "execution_count": null,
   "metadata": {},
   "outputs": [],
   "source": [
    "#roc curve with all classifiers"
   ]
  },
  {
   "cell_type": "markdown",
   "metadata": {},
   "source": [
    "# Storing models in .pickle files"
   ]
  },
  {
   "cell_type": "code",
   "execution_count": null,
   "metadata": {},
   "outputs": [],
   "source": [
    "joblib.dump(nb, 'nb.pkl')\n",
    "joblib.dump(logreg, 'log.pkl') \n",
    "joblib.dump(forest, 'forest.pkl')\n",
    "joblib.dump(gradboost, 'gradboost.pkl') \n",
    "joblib.dump(adaboost, 'adaboost.pkl') \n",
    "joblib.dump(svm, 'svm.pkl') "
   ]
  },
  {
   "cell_type": "markdown",
   "metadata": {},
   "source": [
    "# Next Steps/Notes:\n",
    "* Add more annotated tweets "
   ]
  },
  {
   "cell_type": "code",
   "execution_count": null,
   "metadata": {},
   "outputs": [],
   "source": []
  }
 ],
 "metadata": {
  "kernelspec": {
   "display_name": "Python 3",
   "language": "python",
   "name": "python3"
  },
  "language_info": {
   "codemirror_mode": {
    "name": "ipython",
    "version": 3
   },
   "file_extension": ".py",
   "mimetype": "text/x-python",
   "name": "python",
   "nbconvert_exporter": "python",
   "pygments_lexer": "ipython3",
   "version": "3.6.5"
  }
 },
 "nbformat": 4,
 "nbformat_minor": 2
}
